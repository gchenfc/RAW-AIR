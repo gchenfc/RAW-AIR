{
 "cells": [
  {
   "cell_type": "code",
   "execution_count": 4,
   "metadata": {},
   "outputs": [],
   "source": [
    "import numpy as np\n",
    "import open3d as o3d"
   ]
  },
  {
   "attachments": {},
   "cell_type": "markdown",
   "metadata": {},
   "source": [
    "# Robot Definition\n",
    "The robot can be seen in the following image:\n",
    "\n",
    "TODO: add image\n",
    "\n",
    "It has 5 joints in a 2DoF shoulder, 1DoF elbow, 2DoF wrist configuration (the 2 wrist joints are both perpendicular to the elbow, while the elbow is parallel with the second shoulder joint).\n",
    "\n",
    "In DH notation, the robot is defined as follows:"
   ]
  },
  {
   "cell_type": "code",
   "execution_count": 5,
   "metadata": {},
   "outputs": [],
   "source": [
    "# Define robot geometry\n",
    "#                 alpha_{i-1}  a_{i-1}  d_i  theta_i type  min  max\n",
    "MOD_DH_PARAMS = [[0,           0,       0.1,   0,    'R', -150,  150],  # shoulder 1\n",
    "                 [90,          0,       0,     90,   'R',  0,    180],  # shoulder 2\n",
    "                 [0,           1,       0,     90,   'R',  0,    180],  # elbow\n",
    "                 [90,          0,       1,     180,  'R',  30,   300],  # wrist 1\n",
    "                 [90,          0,       0,     90,   'R',  0,    180]]  # wrist 2\n",
    "\n",
    "REST_TRANSFORMS = [[]]"
   ]
  },
  {
   "cell_type": "code",
   "execution_count": 6,
   "metadata": {},
   "outputs": [],
   "source": [
    "# Coordinate convention: x right, y into wall, z up\n",
    "HAND_LENGTH = 0.2\n",
    "FOREARM_LENGTH = 1\n",
    "UPPERARM_LENGTH = 1\n",
    "BASE_TO_SHOULDER = np.array([0, 0, 0.1])"
   ]
  },
  {
   "cell_type": "code",
   "execution_count": 14,
   "metadata": {},
   "outputs": [],
   "source": [
    "# IK\n",
    "def ik_elbow(x, z, elbow_in=True):\n",
    "    # Uses law of cosines to find shoulder and elbow angle, given planar x/z\n",
    "    a, b, c = UPPERARM_LENGTH, FOREARM_LENGTH, np.linalg.norm([x, z])\n",
    "    gamma = np.arccos((a**2 + b**2 - c**2) / (2 * a * b))\n",
    "    beta = np.arccos((a**2 + c**2 - b**2) / (2 * a * c))\n",
    "    triangle_angle = np.arctan2(z, x)\n",
    "    if elbow_in:\n",
    "        shoulder_angle_from_horiz = triangle_angle + beta\n",
    "        elbow_angle = -np.pi + gamma\n",
    "    else:\n",
    "        shoulder_angle_from_horiz = triangle_angle - beta\n",
    "        elbow_angle = np.pi - gamma\n",
    "    return np.rad2deg(shoulder_angle_from_horiz - np.pi/2), np.rad2deg(elbow_angle)\n",
    "\n",
    "def ik_perpendicular(base_P_tip, elbow_in=True):  # position of brush tip relative to base frame\n",
    "    angles = [0, 0, 0, 0, 0]\n",
    "    base_P_wrist = base_P_tip - np.array([0, HAND_LENGTH, 0])\n",
    "    shoulder_P_wrist_3d = base_P_wrist - BASE_TO_SHOULDER\n",
    "    shoulder_P_wrist_2d = np.array([np.linalg.norm(shoulder_P_wrist_3d[:2]), shoulder_P_wrist_3d[2]])\n",
    "    angles[1], angles[2] = ik_elbow(shoulder_P_wrist_2d[0], shoulder_P_wrist_2d[1], elbow_in=elbow_in)\n",
    "    angles[0] = np.rad2deg(np.arctan2(shoulder_P_wrist_3d[1], shoulder_P_wrist_3d[0])) - 90\n",
    "    angles[3] = 0  # TODO: this depends on base angle in a weird way\n",
    "    angles[4] = 90 # TODO: this depends on base angle in a weird way\n",
    "    return angles"
   ]
  },
  {
   "cell_type": "code",
   "execution_count": 18,
   "metadata": {},
   "outputs": [
    {
     "name": "stdout",
     "output_type": "stream",
     "text": [
      "1.0 1.0\n"
     ]
    },
    {
     "ename": "AssertionError",
     "evalue": "\nNot equal to tolerance rtol=1e-07, atol=0\nIK unit test failed\nMismatched elements: 1 / 5 (20%)\nMax absolute difference: 90.\nMax relative difference: 1.\n x: array([-90., -90.,  90.,   0.,  90.])\n y: array([-90, -90,  90, -90,  90])",
     "output_type": "error",
     "traceback": [
      "\u001b[0;31m---------------------------------------------------------------------------\u001b[0m",
      "\u001b[0;31mAssertionError\u001b[0m                            Traceback (most recent call last)",
      "\u001b[1;32m/Users/gerry/GIT_REPOS/RAW-AIR/arm/gerry00_kinematics_exploration.ipynb Cell 6\u001b[0m in \u001b[0;36m5\n\u001b[1;32m      <a href='vscode-notebook-cell:/Users/gerry/GIT_REPOS/RAW-AIR/arm/gerry00_kinematics_exploration.ipynb#W5sZmlsZQ%3D%3D?line=2'>3</a>\u001b[0m expected_angles \u001b[39m=\u001b[39m [\u001b[39m-\u001b[39m\u001b[39m90\u001b[39m, \u001b[39m-\u001b[39m\u001b[39m90\u001b[39m, \u001b[39m90\u001b[39m, \u001b[39m-\u001b[39m\u001b[39m90\u001b[39m, \u001b[39m90\u001b[39m]\n\u001b[1;32m      <a href='vscode-notebook-cell:/Users/gerry/GIT_REPOS/RAW-AIR/arm/gerry00_kinematics_exploration.ipynb#W5sZmlsZQ%3D%3D?line=3'>4</a>\u001b[0m actual_angles \u001b[39m=\u001b[39m ik_perpendicular(base_P_tip, elbow_in\u001b[39m=\u001b[39m\u001b[39mFalse\u001b[39;00m)\n\u001b[0;32m----> <a href='vscode-notebook-cell:/Users/gerry/GIT_REPOS/RAW-AIR/arm/gerry00_kinematics_exploration.ipynb#W5sZmlsZQ%3D%3D?line=4'>5</a>\u001b[0m np\u001b[39m.\u001b[39;49mtesting\u001b[39m.\u001b[39;49massert_allclose(actual_angles, expected_angles, err_msg\u001b[39m=\u001b[39;49m\u001b[39m'\u001b[39;49m\u001b[39mIK unit test failed\u001b[39;49m\u001b[39m'\u001b[39;49m)\n\u001b[1;32m      <a href='vscode-notebook-cell:/Users/gerry/GIT_REPOS/RAW-AIR/arm/gerry00_kinematics_exploration.ipynb#W5sZmlsZQ%3D%3D?line=5'>6</a>\u001b[0m expected_angles \u001b[39m=\u001b[39m [\u001b[39m-\u001b[39m\u001b[39m90\u001b[39m, \u001b[39m0\u001b[39m, \u001b[39m-\u001b[39m\u001b[39m90\u001b[39m, \u001b[39m-\u001b[39m\u001b[39m90\u001b[39m, \u001b[39m90\u001b[39m]\n\u001b[1;32m      <a href='vscode-notebook-cell:/Users/gerry/GIT_REPOS/RAW-AIR/arm/gerry00_kinematics_exploration.ipynb#W5sZmlsZQ%3D%3D?line=6'>7</a>\u001b[0m actual_angles \u001b[39m=\u001b[39m ik_perpendicular(base_P_tip, elbow_in\u001b[39m=\u001b[39m\u001b[39mTrue\u001b[39;00m)\n",
      "    \u001b[0;31m[... skipping hidden 1 frame]\u001b[0m\n",
      "File \u001b[0;32m~/miniforge3/lib/python3.9/contextlib.py:79\u001b[0m, in \u001b[0;36mContextDecorator.__call__.<locals>.inner\u001b[0;34m(*args, **kwds)\u001b[0m\n\u001b[1;32m     76\u001b[0m \u001b[39m@wraps\u001b[39m(func)\n\u001b[1;32m     77\u001b[0m \u001b[39mdef\u001b[39;00m \u001b[39minner\u001b[39m(\u001b[39m*\u001b[39margs, \u001b[39m*\u001b[39m\u001b[39m*\u001b[39mkwds):\n\u001b[1;32m     78\u001b[0m     \u001b[39mwith\u001b[39;00m \u001b[39mself\u001b[39m\u001b[39m.\u001b[39m_recreate_cm():\n\u001b[0;32m---> 79\u001b[0m         \u001b[39mreturn\u001b[39;00m func(\u001b[39m*\u001b[39;49margs, \u001b[39m*\u001b[39;49m\u001b[39m*\u001b[39;49mkwds)\n",
      "File \u001b[0;32m~/miniforge3/lib/python3.9/site-packages/numpy/testing/_private/utils.py:862\u001b[0m, in \u001b[0;36massert_array_compare\u001b[0;34m(comparison, x, y, err_msg, verbose, header, precision, equal_nan, equal_inf, strict)\u001b[0m\n\u001b[1;32m    858\u001b[0m         err_msg \u001b[39m+\u001b[39m\u001b[39m=\u001b[39m \u001b[39m'\u001b[39m\u001b[39m\\n\u001b[39;00m\u001b[39m'\u001b[39m \u001b[39m+\u001b[39m \u001b[39m'\u001b[39m\u001b[39m\\n\u001b[39;00m\u001b[39m'\u001b[39m\u001b[39m.\u001b[39mjoin(remarks)\n\u001b[1;32m    859\u001b[0m         msg \u001b[39m=\u001b[39m build_err_msg([ox, oy], err_msg,\n\u001b[1;32m    860\u001b[0m                             verbose\u001b[39m=\u001b[39mverbose, header\u001b[39m=\u001b[39mheader,\n\u001b[1;32m    861\u001b[0m                             names\u001b[39m=\u001b[39m(\u001b[39m'\u001b[39m\u001b[39mx\u001b[39m\u001b[39m'\u001b[39m, \u001b[39m'\u001b[39m\u001b[39my\u001b[39m\u001b[39m'\u001b[39m), precision\u001b[39m=\u001b[39mprecision)\n\u001b[0;32m--> 862\u001b[0m         \u001b[39mraise\u001b[39;00m \u001b[39mAssertionError\u001b[39;00m(msg)\n\u001b[1;32m    863\u001b[0m \u001b[39mexcept\u001b[39;00m \u001b[39mValueError\u001b[39;00m:\n\u001b[1;32m    864\u001b[0m     \u001b[39mimport\u001b[39;00m \u001b[39mtraceback\u001b[39;00m\n",
      "\u001b[0;31mAssertionError\u001b[0m: \nNot equal to tolerance rtol=1e-07, atol=0\nIK unit test failed\nMismatched elements: 1 / 5 (20%)\nMax absolute difference: 90.\nMax relative difference: 1.\n x: array([-90., -90.,  90.,   0.,  90.])\n y: array([-90, -90,  90, -90,  90])"
     ]
    }
   ],
   "source": [
    "# Unit test\n",
    "base_P_tip = np.array([UPPERARM_LENGTH, HAND_LENGTH, FOREARM_LENGTH]) + BASE_TO_SHOULDER\n",
    "expected_angles = [-90, -90, 90, -90, 90]\n",
    "actual_angles = ik_perpendicular(base_P_tip, elbow_in=False)\n",
    "np.testing.assert_allclose(actual_angles, expected_angles, err_msg='IK unit test failed')\n",
    "expected_angles = [-90, 0, -90, -90, 90]\n",
    "actual_angles = ik_perpendicular(base_P_tip, elbow_in=True)\n",
    "np.testing.assert_allclose(actual_angles, expected_angles, err_msg='IK unit test failed')"
   ]
  },
  {
   "cell_type": "code",
   "execution_count": null,
   "metadata": {},
   "outputs": [],
   "source": []
  }
 ],
 "metadata": {
  "kernelspec": {
   "display_name": "base",
   "language": "python",
   "name": "python3"
  },
  "language_info": {
   "codemirror_mode": {
    "name": "ipython",
    "version": 3
   },
   "file_extension": ".py",
   "mimetype": "text/x-python",
   "name": "python",
   "nbconvert_exporter": "python",
   "pygments_lexer": "ipython3",
   "version": "3.9.15"
  },
  "orig_nbformat": 4
 },
 "nbformat": 4,
 "nbformat_minor": 2
}
