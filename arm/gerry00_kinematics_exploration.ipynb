{
 "cells": [
  {
   "cell_type": "code",
   "execution_count": null,
   "metadata": {},
   "outputs": [],
   "source": [
    "%load_ext autoreload\n",
    "%autoreload 2"
   ]
  },
  {
   "cell_type": "code",
   "execution_count": null,
   "metadata": {},
   "outputs": [],
   "source": [
    "import numpy as np\n",
    "import kinematics\n",
    "from util import SE3\n",
    "import trimesh\n",
    "import trimesh.viewer.notebook\n",
    "import time\n",
    "from IPython.display import clear_output"
   ]
  },
  {
   "attachments": {},
   "cell_type": "markdown",
   "metadata": {},
   "source": [
    "# Robot Definition\n",
    "The robot can be seen in the following image:\n",
    "\n",
    "![Arm image](arm_img.png){width=30%}\n",
    "\n",
    "It has 5 joints in a 2DoF shoulder, 1DoF elbow, 2DoF wrist configuration (the 2 wrist joints are both perpendicular to the elbow, while the elbow is parallel with the second shoulder joint).\n",
    "\n",
    "Although we define the robot parameters in kinematics.py, we'll re-defined them here for reference."
   ]
  },
  {
   "cell_type": "code",
   "execution_count": null,
   "metadata": {},
   "outputs": [],
   "source": [
    "# Constants\n",
    "BRUSH_LENGTH = 0.115 + .1\n",
    "HAND_LENGTH = .031\n",
    "FOREARM_LENGTH = .149\n",
    "UPPERARM_LENGTH = .148\n",
    "ELBOW_LATERAL_OFFSET = 0.03205\n",
    "BASE_TO_SHOULDER = 0.06525"
   ]
  },
  {
   "attachments": {},
   "cell_type": "markdown",
   "metadata": {},
   "source": [
    "Using Lynch & Park notations, we can define the rest transform & screw axis as:"
   ]
  },
  {
   "cell_type": "code",
   "execution_count": null,
   "metadata": {},
   "outputs": [],
   "source": [
    "# Robot Definition\n",
    "REST_TRANSFORMS = [\n",
    "    SE3.P([0, 0, BASE_TO_SHOULDER]),\n",
    "    SE3.P([0, 0, UPPERARM_LENGTH]),\n",
    "    SE3.P([ELBOW_LATERAL_OFFSET, 0, FOREARM_LENGTH]),\n",
    "    SE3.P([0, 0, HAND_LENGTH]),\n",
    "    SE3.P([0, 0, BRUSH_LENGTH]),\n",
    "]\n",
    "SCREW_AXES = np.array([\n",
    "    [0, 0, 1, 0, 0, 0],\n",
    "    [1, 0, 0, 0, 0, 0],\n",
    "    [1, 0, 0, 0, 0, 0],\n",
    "    [0, 0, 1, 0, 0, 0],\n",
    "    [1, 0, 0, 0, 0, 0],\n",
    "])"
   ]
  },
  {
   "cell_type": "code",
   "execution_count": null,
   "metadata": {},
   "outputs": [],
   "source": [
    "# Unit tests\n",
    "!python -m unittest test_kinematics.py"
   ]
  },
  {
   "attachments": {},
   "cell_type": "markdown",
   "metadata": {},
   "source": [
    "# FK"
   ]
  },
  {
   "cell_type": "code",
   "execution_count": null,
   "metadata": {},
   "outputs": [],
   "source": [
    "T, joint_Ts = kinematics.fk([0, 1, 0, 0, 0])\n",
    "print('Brush Tip Pose:')\n",
    "display(T)\n",
    "print('Joint poses:')\n",
    "for pose in joint_Ts:\n",
    "    print('\\t', pose[:, 3])\n",
    "\n",
    "# Visualize\n",
    "kinematics.visualize_robot(joint_Ts).show()"
   ]
  },
  {
   "cell_type": "code",
   "execution_count": null,
   "metadata": {},
   "outputs": [],
   "source": [
    "# \"Animation\" (sucks)\n",
    "if False:\n",
    "    for i, angle in enumerate(np.linspace(0, 2, 10)):\n",
    "        T, joint_Ts = kinematics.fk([0, angle, 0, 0, 0])\n",
    "        # with open(f'/tmp/{i:03d}.png', 'wb') as f:\n",
    "        #     f.write(kinematics.visualize_robot(joint_Ts).save_image())\n",
    "        display(kinematics.visualize_robot(joint_Ts).show())\n",
    "        time.sleep(0.3)\n",
    "        clear_output(wait=True)"
   ]
  },
  {
   "attachments": {},
   "cell_type": "markdown",
   "metadata": {},
   "source": [
    "# IK"
   ]
  },
  {
   "cell_type": "code",
   "execution_count": null,
   "metadata": {},
   "outputs": [],
   "source": [
    "# Let's do a practice IK solve, using a random joint configuration to create our goal pose.\n",
    "# We can also compare the results when we try to fit full SE3 vs when we ignore the spin axis.\n",
    "\n",
    "np.random.seed(8675309)\n",
    "thetas_init = np.random.uniform(-np.pi / 2, np.pi / 2, size=(5,))\n",
    "print('IK ground truth:', thetas_init)\n",
    "T_goal, T_links = kinematics.fk(thetas_init)\n",
    "meshes1 = kinematics.robot_meshes(T_links, color=(0, 255, 0, 255))\n",
    "for mesh in meshes1:\n",
    "    mesh.apply_transform(SE3.P([0, 0, -0.001])) # So we can see the goal pose\n",
    "\n",
    "success, ik_result = kinematics.ik(T_goal, ignore_spin_axis=False)\n",
    "print('IK result 1:    ', ik_result)\n",
    "meshes2 = kinematics.robot_meshes(kinematics.fk(ik_result)[1], color=(0, 0, 255, 255))\n",
    "\n",
    "success, ik_result = kinematics.ik(T_goal, ignore_spin_axis=True)\n",
    "print('IK result 2:    ', ik_result)\n",
    "meshes3 = kinematics.robot_meshes(kinematics.fk(ik_result)[1], color=(255, 0, 0, 255))\n",
    "\n",
    "\n",
    "goal_mesh = trimesh.creation.axis(axis_length=0.3, origin_size=0.01).apply_transform(T_goal)\n",
    "print(T_goal)\n",
    "\n",
    "kinematics.create_scene(meshes1 + meshes2 + meshes3 + [goal_mesh]).show()"
   ]
  },
  {
   "cell_type": "code",
   "execution_count": null,
   "metadata": {},
   "outputs": [],
   "source": [
    "# Now let's try to solve IK for some useful poses\n",
    "def solve_and_mesh(T_goal, color=None, **ik_kwargs):\n",
    "    success, ik_result = kinematics.ik(T_goal, **ik_kwargs)\n",
    "    print(ik_result.round(3))\n",
    "    assert success, f'IK failed: {ik_result}'\n",
    "\n",
    "    goal_pose = trimesh.creation.axis(axis_length=0.3, origin_size=0.01).apply_transform(T_goal)\n",
    "    return kinematics.robot_meshes(kinematics.fk(ik_result)[1], color=color) + [goal_pose]\n",
    "\n",
    "\n",
    "kwargs = {'ignore_spin_axis': True, 'elbow_mode': 'pos'}\n",
    "pose_glass_straight = SE3.P([0, 0.3, 0.35]) @ SE3.RotX(-np.pi / 2)\n",
    "pose_paint_dip = SE3.P([0, -0.2, 0]) @ SE3.RotX(-np.pi)\n",
    "\n",
    "meshes = []\n",
    "for pose in [pose_glass_straight, pose_paint_dip]:\n",
    "    meshes += solve_and_mesh(pose, **kwargs)\n",
    "\n",
    "kinematics.create_scene(meshes).show()"
   ]
  },
  {
   "cell_type": "code",
   "execution_count": null,
   "metadata": {},
   "outputs": [],
   "source": [
    "# Finally, let's try a painting trajectory\n",
    "def solve_and_mesh_2(T_goal, color=None, **ik_kwargs):\n",
    "    success, ik_result = kinematics.ik(T_goal, **ik_kwargs)\n",
    "    assert success, f'IK failed: {ik_result}'\n",
    "    goal = trimesh.primitives.Sphere(radius=0.01, transform=T_goal)\n",
    "    goal.visual.face_colors = color\n",
    "    return kinematics.robot_meshes(kinematics.fk(ik_result)[1], color=color) + [goal]\n",
    "\n",
    "glass_center = SE3.P([0, 0.3, 0.33]) @ SE3.RotX(-np.pi / 2)\n",
    "\n",
    "# t = np.linspace(0, 2 * np.pi, 10)[:, None]\n",
    "# art_traj = np.hstack((np.cos(t), t * 0, np.sin(t))) * 0.05\n",
    "# colors = np.hstack((220 - 30 * t, 31 + 30 * t, t*0, 255 * np.ones_like(t)))\n",
    "t = np.linspace(-1, 1, 10)[:, None]\n",
    "art_traj = np.hstack((0.17 * t, t * 0, t * 0))\n",
    "colors = np.hstack((128 - 100 * t, 128 + 100 * t, t*0, 255 * np.ones_like(t)))\n",
    "\n",
    "poses = [SE3.P(point) @ glass_center for point in art_traj]\n",
    "\n",
    "kinematics.create_scene(\n",
    "    sum([solve_and_mesh_2(pose, color=c, **kwargs) for pose, c in zip(poses, colors)], [])).show()\n"
   ]
  },
  {
   "attachments": {},
   "cell_type": "markdown",
   "metadata": {},
   "source": [
    "# IK (old)"
   ]
  },
  {
   "cell_type": "code",
   "execution_count": null,
   "metadata": {},
   "outputs": [],
   "source": [
    "# IK\n",
    "def ik_elbow(x, z, elbow_in=True):\n",
    "    # Uses law of cosines to find shoulder and elbow angle, given planar x/z\n",
    "    a, b, c = UPPERARM_LENGTH, FOREARM_LENGTH, np.linalg.norm([x, z])\n",
    "    gamma = np.arccos((a**2 + b**2 - c**2) / (2 * a * b))\n",
    "    beta = np.arccos((a**2 + c**2 - b**2) / (2 * a * c))\n",
    "    triangle_angle = np.arctan2(z, x)\n",
    "    if elbow_in:\n",
    "        shoulder_angle_from_horiz = triangle_angle + beta\n",
    "        elbow_angle = -np.pi + gamma\n",
    "    else:\n",
    "        shoulder_angle_from_horiz = triangle_angle - beta\n",
    "        elbow_angle = np.pi - gamma\n",
    "    return np.rad2deg(shoulder_angle_from_horiz - np.pi/2), np.rad2deg(elbow_angle)\n",
    "\n",
    "def ik_perpendicular(base_P_tip, elbow_in=True):  # position of brush tip relative to base frame\n",
    "    angles = [0, 0, 0, 0, 0]\n",
    "    base_P_wrist = base_P_tip - np.array([0, HAND_LENGTH, 0])\n",
    "    shoulder_P_wrist_3d = base_P_wrist - BASE_TO_SHOULDER\n",
    "    shoulder_P_wrist_2d = np.array([np.linalg.norm(shoulder_P_wrist_3d[:2]), shoulder_P_wrist_3d[2]])\n",
    "    angles[1], angles[2] = ik_elbow(shoulder_P_wrist_2d[0], shoulder_P_wrist_2d[1], elbow_in=elbow_in)\n",
    "    angles[0] = np.rad2deg(np.arctan2(shoulder_P_wrist_3d[1], shoulder_P_wrist_3d[0])) - 90\n",
    "    angles[3] = 0  # TODO: this depends on base angle in a weird way\n",
    "    angles[4] = 90 # TODO: this depends on base angle in a weird way\n",
    "    return angles"
   ]
  },
  {
   "cell_type": "code",
   "execution_count": null,
   "metadata": {},
   "outputs": [],
   "source": [
    "# Unit test\n",
    "# TODO: fix this code... ???\n",
    "base_P_tip = np.array([UPPERARM_LENGTH, HAND_LENGTH, FOREARM_LENGTH]) + BASE_TO_SHOULDER\n",
    "expected_angles = [-90, -90, 90, -90, 90]\n",
    "actual_angles = ik_perpendicular(base_P_tip, elbow_in=False)\n",
    "np.testing.assert_allclose(actual_angles, expected_angles, err_msg='IK unit test failed')\n",
    "expected_angles = [-90, 0, -90, -90, 90]\n",
    "actual_angles = ik_perpendicular(base_P_tip, elbow_in=True)\n",
    "np.testing.assert_allclose(actual_angles, expected_angles, err_msg='IK unit test failed')"
   ]
  },
  {
   "cell_type": "code",
   "execution_count": null,
   "metadata": {},
   "outputs": [],
   "source": []
  }
 ],
 "metadata": {
  "kernelspec": {
   "display_name": "base",
   "language": "python",
   "name": "python3"
  },
  "language_info": {
   "codemirror_mode": {
    "name": "ipython",
    "version": 3
   },
   "file_extension": ".py",
   "mimetype": "text/x-python",
   "name": "python",
   "nbconvert_exporter": "python",
   "pygments_lexer": "ipython3",
   "version": "3.9.15"
  },
  "orig_nbformat": 4
 },
 "nbformat": 4,
 "nbformat_minor": 2
}
