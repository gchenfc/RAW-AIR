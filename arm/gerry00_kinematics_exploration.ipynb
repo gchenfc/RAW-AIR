{
 "cells": [
  {
   "cell_type": "code",
   "execution_count": 2,
   "metadata": {},
   "outputs": [],
   "source": [
    "import numpy as np\n",
    "import open3d as o3d"
   ]
  },
  {
   "attachments": {},
   "cell_type": "markdown",
   "metadata": {},
   "source": [
    "# Robot Definition\n",
    "The robot can be seen in the following image:\n",
    "\n",
    "TODO: add image\n",
    "\n",
    "It has 5 joints in a 2DoF shoulder, 1DoF elbow, 2DoF wrist configuration (the 2 wrist joints are both perpendicular to the elbow, while the elbow is parallel with the second shoulder joint).\n",
    "\n",
    "In DH notation, the robot is defined as follows:"
   ]
  },
  {
   "cell_type": "code",
   "execution_count": null,
   "metadata": {},
   "outputs": [],
   "source": [
    "# Define"
   ]
  }
 ],
 "metadata": {
  "kernelspec": {
   "display_name": "base",
   "language": "python",
   "name": "python3"
  },
  "language_info": {
   "codemirror_mode": {
    "name": "ipython",
    "version": 3
   },
   "file_extension": ".py",
   "mimetype": "text/x-python",
   "name": "python",
   "nbconvert_exporter": "python",
   "pygments_lexer": "ipython3",
   "version": "3.9.15"
  },
  "orig_nbformat": 4
 },
 "nbformat": 4,
 "nbformat_minor": 2
}
