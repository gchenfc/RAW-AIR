{
 "cells": [
  {
   "cell_type": "code",
   "execution_count": 6,
   "metadata": {},
   "outputs": [],
   "source": [
    "from serial import Serial\n",
    "import time"
   ]
  },
  {
   "cell_type": "code",
   "execution_count": 3,
   "metadata": {},
   "outputs": [],
   "source": [
    "PORT = '/dev/tty.borglab_mcu'\n",
    "BAUD = 9600"
   ]
  },
  {
   "cell_type": "code",
   "execution_count": 59,
   "metadata": {},
   "outputs": [],
   "source": [
    "i = 0\n",
    "with Serial(PORT, BAUD, timeout=0.1) as ser:\n",
    "    for i in range(10):\n",
    "        ser.write(f'hello{i}\\n'.encode())\n",
    "        time.sleep(0.5)\n",
    "        i += 1\n",
    "        # while ser.in_waiting == 0:\n",
    "        #     time.sleep(0.1)\n",
    "        # s = ser.read(100)\n",
    "        # ser.write(b'echo: ' + s)\n",
    "        # ser.write(bytes([0xDE, 0xAD, 0xBE, 0xEF]))\n",
    "        # print(s.decode())"
   ]
  },
  {
   "cell_type": "code",
   "execution_count": null,
   "metadata": {},
   "outputs": [],
   "source": []
  }
 ],
 "metadata": {
  "kernelspec": {
   "display_name": "base",
   "language": "python",
   "name": "python3"
  },
  "language_info": {
   "codemirror_mode": {
    "name": "ipython",
    "version": 3
   },
   "file_extension": ".py",
   "mimetype": "text/x-python",
   "name": "python",
   "nbconvert_exporter": "python",
   "pygments_lexer": "ipython3",
   "version": "3.9.15"
  },
  "orig_nbformat": 4,
  "vscode": {
   "interpreter": {
    "hash": "402f513bd64bb05ccdfd11315d0c88453571d1d1d73db48414a1b2a41f771ebc"
   }
  }
 },
 "nbformat": 4,
 "nbformat_minor": 2
}
