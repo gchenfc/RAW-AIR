{
 "cells": [
  {
   "attachments": {},
   "cell_type": "markdown",
   "metadata": {},
   "source": [
    "# Bluetooth Arm test\n",
    "\n",
    "This code will test the arm over bluetooth, and also test kinematics on the arm."
   ]
  },
  {
   "cell_type": "code",
   "execution_count": null,
   "metadata": {},
   "outputs": [],
   "source": [
    "%load_ext autoreload\n",
    "%autoreload 2\n",
    "%aimport dynamixel"
   ]
  },
  {
   "cell_type": "code",
   "execution_count": null,
   "metadata": {},
   "outputs": [],
   "source": [
    "from arm import Arm, JointPathWaypoint\n",
    "import kinematics\n",
    "import time\n",
    "import numpy as np\n",
    "from util import SE3"
   ]
  },
  {
   "cell_type": "code",
   "execution_count": null,
   "metadata": {},
   "outputs": [],
   "source": [
    "PORT = '/dev/tty.borgla_test'\n",
    "BAUD = 9600\n",
    "WRITE_PACKET_DELAY = 0.15  # This is because bluetooth is a bit slow\n",
    "# PORT = '/dev/tty.usbmodem1101'\n",
    "# BAUD = 9600\n",
    "# WRITE_PACKET_DELAY = 0.01\n",
    "\n",
    "Robot = lambda: Arm(PORT, BAUD, write_packet_delay=WRITE_PACKET_DELAY)"
   ]
  },
  {
   "cell_type": "code",
   "execution_count": null,
   "metadata": {},
   "outputs": [],
   "source": [
    "# Test connection to all servos by pinging\n",
    "# We expect print 6 lines, all with error=0.  See https://emanual.robotis.com/docs/en/dxl/protocol1/#error\n",
    "with Robot() as robot:\n",
    "    robot.ping(0)\n",
    "    robot.ping(1)\n",
    "    robot.ping(2)\n",
    "    robot.ping(3)\n",
    "    robot.ping(4)\n",
    "    robot.ping(5)\n",
    "    for msg in robot.read_all_msgs():\n",
    "        print(msg)"
   ]
  },
  {
   "cell_type": "code",
   "execution_count": null,
   "metadata": {},
   "outputs": [],
   "source": [
    "# Allow hand-positioning of arm and print joint angles\n",
    "with Robot() as robot:\n",
    "    robot.disable_all()\n",
    "    while input() != 'q':\n",
    "        print(robot.read_all_joint_angles_deg())"
   ]
  },
  {
   "cell_type": "code",
   "execution_count": null,
   "metadata": {},
   "outputs": [],
   "source": [
    "# Check FK by disabling motors and printing tip position as the robot is moved by hand\n",
    "with Robot() as robot:\n",
    "    robot.disable_all()\n",
    "    print(f'{\"Tip Position (m)\":25}\\t{\"Joint Angles (deg)\":30}')\n",
    "    while True:\n",
    "        try:\n",
    "            q = np.array(robot.joint_angles_deg())\n",
    "            wTtip, _ = kinematics.fk_deg(q)\n",
    "            wPtip = wTtip[:3, 3]\n",
    "            print(f'{str(wPtip.round(3)):25}\\t{str(q.round(0)):30}', end='\\r')\n",
    "        except KeyboardInterrupt:\n",
    "            break\n",
    "    print()\n",
    "    print(wTtip)"
   ]
  },
  {
   "cell_type": "code",
   "execution_count": null,
   "metadata": {},
   "outputs": [],
   "source": [
    "# Set arm to 0 position\n",
    "with Robot() as robot:\n",
    "    robot.enable_all()\n",
    "    robot.go_to_blocking([0, 0, 0, 0, 0])"
   ]
  },
  {
   "cell_type": "code",
   "execution_count": null,
   "metadata": {},
   "outputs": [],
   "source": [
    "# Test following a path (dipping paint)\n",
    "prep, hover, dip_pos, rub1, rub2 = (\n",
    "    [20.087976539589448, -23.900293255131956, 83.72434017595307, 3.6656891495601087, 100.73313782991202],\n",
    "    [22.727272727272748, -28.00586510263929, 106.30498533724341, 3.3724340175953103, 86.95014662756597],\n",
    "    [22.140762463343123, -23.900293255131956, 115.10263929618768, 3.3724340175953103, 79.61876832844574],\n",
    "    [23.020527859237546, -26.53958944281524, 114.51612903225806, 3.3724340175953103, 85.77712609970675],\n",
    "    [22.140762463343123, -12.756598240469202, 104.83870967741936, 3.6656891495601087, 75.51319648093842],)\n",
    "\n",
    "def dip():\n",
    "    path = [\n",
    "        JointPathWaypoint(q=[0, 0, 0, 0, 0], tol=5, timeout=None, pause=0),            # home\n",
    "        JointPathWaypoint(q=prep, tol=5, timeout=None, pause=0),      # lower\n",
    "        JointPathWaypoint(q=hover, tol=5, timeout=None, pause=0), # hover paint\n",
    "        JointPathWaypoint(q=dip_pos, tol=5, timeout=None, pause=0), # dip\n",
    "        JointPathWaypoint(q=rub1, tol=5, timeout=None, pause=0), # rub\n",
    "        JointPathWaypoint(q=rub2, tol=5, timeout=None, pause=0), # rub\n",
    "        JointPathWaypoint(q=hover, tol=5, timeout=None, pause=0), # lift paint\n",
    "        JointPathWaypoint(q=prep, tol=5, timeout=None, pause=0),      # raise\n",
    "        JointPathWaypoint(q=[0, 0, 0, 0, 0], tol=5, timeout=None, pause=0),            # home\n",
    "    ]\n",
    "    with Robot() as robot:\n",
    "        robot.enable_all()\n",
    "        robot.set_speed(50)\n",
    "        robot.execute_joint_path(path, verbosity=0, default_speed=50)"
   ]
  },
  {
   "cell_type": "code",
   "execution_count": null,
   "metadata": {},
   "outputs": [],
   "source": [
    "with Robot() as robot:\n",
    "    robot.disable_all()\n",
    "    time.sleep(0.5)"
   ]
  },
  {
   "cell_type": "code",
   "execution_count": null,
   "metadata": {},
   "outputs": [],
   "source": [
    "# CENTER_POINT = np.array([-0.03205, 0.165, 0.24525])\n",
    "CENTER_POINT = np.array([-0.03205, 0.147, 0.2493])\n",
    "MAX_VEL = 50"
   ]
  },
  {
   "cell_type": "code",
   "execution_count": null,
   "metadata": {},
   "outputs": [],
   "source": [
    "ok, q = kinematics.ik_deg(SE3.P(CENTER_POINT) @ SE3.RotX(-np.pi / 2), elbow_mode='neg')\n",
    "assert ok, 'IK failed'\n",
    "print(q)\n",
    "with Robot() as robot:\n",
    "    robot.go_to_blocking(q)"
   ]
  },
  {
   "cell_type": "code",
   "execution_count": null,
   "metadata": {},
   "outputs": [],
   "source": [
    "def create_path(centerPxyz, vmax=MAX_VEL, angle=-np.pi / 2, elbow_mode='neg'):\n",
    "    # First, add the ease in/out\n",
    "    ease_point = np.array([0, -0.1, 0.0])\n",
    "    centerPxyz = np.vstack([ease_point + centerPxyz[0], centerPxyz, ease_point + centerPxyz[-1]])\n",
    "    # Now turn positions into global poses\n",
    "    wTxyz = [(SE3.P(p + CENTER_POINT) @ SE3.RotX(angle)) for p in centerPxyz]\n",
    "    # Finally, convert to joint angles\n",
    "    qs = [kinematics.ik_deg(T, elbow_mode=elbow_mode) for T in wTxyz]\n",
    "    assert all(q[0] for q in qs), f'IK failed: {[q[0] for q in qs]}'\n",
    "    qs = [q[1] for q in qs]\n",
    "    assert all(q[-1] > -108 for q in qs), f'Joint limit reached: \\n{np.array(qs)}'\n",
    "    # Now, handle velocities\n",
    "    qdots = [kinematics.joint_vels_deg(q1, q2, max_vel=vmax) for q1, q2 in zip(qs[:-1], qs[1:])]\n",
    "    qdots.insert(0, [vmax, 0.8*vmax, vmax, vmax, 0.8*vmax])\n",
    "    qdots = [np.clip(np.abs(qdot), vmax * 0.15, None) for qdot in qdots]\n",
    "    # Finally, create and return the path\n",
    "    return [\n",
    "        JointPathWaypoint(q=[0, 0, 0, 0, 0], tol=5, timeout=None, pause=0),  # home\n",
    "        *[JointPathWaypoint(q=q, speeds=qdot, tol=5, timeout=None, pause=0) for q, qdot in zip(qs, qdots)],  # trajectory\n",
    "        JointPathWaypoint(q=[0, 0, 0, 0, 0], tol=5, timeout=None, pause=0),  # home\n",
    "    ]"
   ]
  },
  {
   "cell_type": "code",
   "execution_count": null,
   "metadata": {},
   "outputs": [],
   "source": [
    "# Move to painting position\n",
    "TO_PAINT_PATH = create_path([[0, 0.05, 0]])\n",
    "\n",
    "def prep_to_paint():\n",
    "    with Robot() as robot:\n",
    "        robot.enable_all()\n",
    "        robot.set_speed(50)\n",
    "        robot.set_compliance_slopes(16)\n",
    "        robot.execute_joint_path(TO_PAINT_PATH[:2], verbosity=0, default_speed=50)\n",
    "def start_paint():\n",
    "    with Robot() as robot:\n",
    "        robot.enable_all()\n",
    "        robot.set_speed(50)\n",
    "        robot.set_compliance_slopes(16)\n",
    "        robot.execute_joint_path(TO_PAINT_PATH[2:-2], verbosity=0, default_speed=50)\n",
    "def stop_paint():\n",
    "    with Robot() as robot:\n",
    "        robot.enable_all()\n",
    "        robot.set_speed(50)\n",
    "        robot.set_compliance_slopes(16)\n",
    "        robot.execute_joint_path(TO_PAINT_PATH[-2:-1], verbosity=0, default_speed=50)\n",
    "def move_to_home():\n",
    "    with Robot() as robot:\n",
    "        robot.enable_all()\n",
    "        robot.set_speed(50)\n",
    "        robot.set_compliance_slopes(16)\n",
    "        robot.execute_joint_path(TO_PAINT_PATH[-1:], verbosity=0, default_speed=50)"
   ]
  },
  {
   "cell_type": "code",
   "execution_count": null,
   "metadata": {},
   "outputs": [],
   "source": [
    "dip()"
   ]
  },
  {
   "cell_type": "code",
   "execution_count": null,
   "metadata": {},
   "outputs": [],
   "source": [
    "prep_to_paint()"
   ]
  },
  {
   "cell_type": "code",
   "execution_count": null,
   "metadata": {},
   "outputs": [],
   "source": [
    "start_paint()\n",
    "input()\n",
    "stop_paint()"
   ]
  },
  {
   "cell_type": "code",
   "execution_count": null,
   "metadata": {},
   "outputs": [],
   "source": [
    "move_to_home()"
   ]
  },
  {
   "cell_type": "code",
   "execution_count": null,
   "metadata": {},
   "outputs": [],
   "source": [
    "t = np.linspace(0, 2 * np.pi, 9)[:, None]\n",
    "positions = np.hstack([np.cos(t), 0 * t, np.sin(t)]) * 0.03\n",
    "path = create_path(positions, vmax=75)\n",
    "\n",
    "with Robot() as robot:\n",
    "    robot.enable_all()\n",
    "    robot.set_speed(75)\n",
    "    robot.set_compliance_slopes(16)\n",
    "    robot.execute_joint_path(path, verbosity=2, default_speed=75)"
   ]
  },
  {
   "cell_type": "code",
   "execution_count": null,
   "metadata": {},
   "outputs": [],
   "source": [
    "path = create_path(np.array([0, -0.05, 0.1])[None, :], vmax=75)\n",
    "\n",
    "with Robot() as robot:\n",
    "    robot.enable_all()\n",
    "    robot.set_speed(75)\n",
    "    robot.set_compliance_slopes(32)\n",
    "    robot.execute_joint_path(path[:3], verbosity=2, default_speed=75)\n",
    "    input()\n",
    "    robot.execute_joint_path(path[3:], verbosity=2, default_speed=75)"
   ]
  },
  {
   "cell_type": "code",
   "execution_count": null,
   "metadata": {},
   "outputs": [],
   "source": [
    "# Try tilting the brush\n",
    "Ts = [(SE3.P(CENTER_POINT + [0, 0, 0.1]) @ SE3.RotX(-np.pi / 2 + angle)) for angle in np.linspace(0, .5, 5)]\n",
    "qs = [kinematics.ik_deg(T, elbow_mode='pos') for T in Ts]\n",
    "assert all(q[0] for q in qs), f'IK failed: {[q[0] for q in qs]}'\n",
    "qs = [q[1] for q in qs]\n",
    "assert all(q[-1] > -108 for q in qs), f'Joint limit reached: \\n{np.array(qs)}'\n",
    "\n",
    "# qdots = [kinematics.joint_vels_deg(q1, q2, max_vel=MAX_VEL) for q1, q2 in zip(qs[:-1], qs[1:])]\n",
    "# qdots.insert(0, [MAX_VEL, 0.8*MAX_VEL, MAX_VEL, MAX_VEL, 0.8*MAX_VEL])\n",
    "# qdots = [np.clip(np.abs(qdot), 5, None) for qdot in qdots]\n",
    "\n",
    "path = [\n",
    "        JointPathWaypoint(q=[0, 0, 0, 0, 0], tol=5, timeout=None, pause=0),  # home\n",
    "        # *[JointPathWaypoint(q=q, speeds=qdot, tol=5, timeout=None, pause=0) for q, qdot in zip(qs, qdots)],  # trajectory\n",
    "        *[JointPathWaypoint(q=q, tol=5, timeout=None, pause=0) for q in qs],  # trajectory\n",
    "        JointPathWaypoint(q=[0, 0, 0, 0, 0], tol=5, timeout=None, pause=0),  # home\n",
    "    ]\n",
    "\n",
    "with Robot() as robot:\n",
    "    robot.enable_all()\n",
    "    robot.set_compliance_slopes(16)\n",
    "    robot.execute_joint_path(path, verbosity=2, default_speed=MAX_VEL)"
   ]
  },
  {
   "cell_type": "code",
   "execution_count": null,
   "metadata": {},
   "outputs": [],
   "source": []
  }
 ],
 "metadata": {
  "kernelspec": {
   "display_name": "base",
   "language": "python",
   "name": "python3"
  },
  "language_info": {
   "codemirror_mode": {
    "name": "ipython",
    "version": 3
   },
   "file_extension": ".py",
   "mimetype": "text/x-python",
   "name": "python",
   "nbconvert_exporter": "python",
   "pygments_lexer": "ipython3",
   "version": "3.9.15"
  },
  "orig_nbformat": 4
 },
 "nbformat": 4,
 "nbformat_minor": 2
}
