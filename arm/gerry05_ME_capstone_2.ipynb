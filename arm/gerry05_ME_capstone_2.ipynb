{
 "cells": [
  {
   "cell_type": "markdown",
   "metadata": {},
   "source": [
    "# High-level Arm test\n",
    "\n",
    "This code will test the arm over bluetooth, and also test kinematics on the arm."
   ]
  },
  {
   "cell_type": "code",
   "execution_count": null,
   "metadata": {},
   "outputs": [],
   "source": [
    "%load_ext autoreload\n",
    "%autoreload 2\n",
    "%aimport dynamixel\n",
    "%aimport kinematics"
   ]
  },
  {
   "cell_type": "code",
   "execution_count": null,
   "metadata": {},
   "outputs": [],
   "source": [
    "from arm import Arm, JointPathWaypoint, PosePathWaypoint\n",
    "import time\n",
    "import numpy as np\n",
    "from util import SE3"
   ]
  },
  {
   "cell_type": "code",
   "execution_count": null,
   "metadata": {},
   "outputs": [],
   "source": [
    "# PORT, BAUD, WRITE_PACKET_DELAY = '/dev/tty.borgla_test', 9600, 0.15\n",
    "# PORT, BAUD, WRITE_PACKET_DELAY = '/dev/tty.usbmodem1101', 9600, 0.01\n",
    "PORT, BAUD, WRITE_PACKET_DELAY, READ_ALL_TIMEOUT = '/dev/tty.usbmodem103568505', 1000000, 0.002, 0.002\n",
    "\n",
    "Robot = lambda **kwargs: Arm(\n",
    "    PORT, BAUD, write_packet_delay=WRITE_PACKET_DELAY, read_all_timeout=READ_ALL_TIMEOUT, **kwargs)"
   ]
  },
  {
   "cell_type": "code",
   "execution_count": null,
   "metadata": {},
   "outputs": [],
   "source": [
    "# Test connection to all servos by pinging\n",
    "# We expect print 6 lines, all with error=0.  See https://emanual.robotis.com/docs/en/dxl/protocol1/#error\n",
    "with Robot() as robot:\n",
    "    robot.ping(0)\n",
    "    robot.ping(1)\n",
    "    robot.ping(2)\n",
    "    robot.ping(3)\n",
    "    robot.ping(4)\n",
    "    robot.ping(5)\n",
    "    for msg in robot.read_all_msgs():\n",
    "        print(msg)"
   ]
  },
  {
   "cell_type": "code",
   "execution_count": null,
   "metadata": {},
   "outputs": [],
   "source": [
    "# Allow hand-positioning of arm and print joint angles\n",
    "with Robot() as robot:\n",
    "    robot.disable_all()\n",
    "    while input() != 'q':\n",
    "        print(robot.joint_angles_deg())"
   ]
  },
  {
   "cell_type": "code",
   "execution_count": null,
   "metadata": {},
   "outputs": [],
   "source": [
    "# Check FK by disabling motors and printing tip position as the robot is moved by hand\n",
    "with Robot() as robot:\n",
    "    robot.disable_all()\n",
    "    while True:\n",
    "        try:\n",
    "            print(robot, end='\\r')\n",
    "        except KeyboardInterrupt:\n",
    "            time.sleep(0.5)  # Give some time for unpaired responses to come back\n",
    "            robot.clear_buffer()\n",
    "            break\n",
    "    print()\n",
    "    print('Pose:')\n",
    "    print(robot.cur_pose())"
   ]
  },
  {
   "cell_type": "code",
   "execution_count": null,
   "metadata": {},
   "outputs": [],
   "source": [
    "# Set arm to 0 position\n",
    "with Robot() as robot:\n",
    "    robot.enable_all()\n",
    "    robot.do_move_home(verbosity=2)"
   ]
  },
  {
   "cell_type": "code",
   "execution_count": null,
   "metadata": {},
   "outputs": [],
   "source": [
    "with Robot(print_warnings=False) as robot:\n",
    "    robot.enable_all()\n",
    "    robot.do_dip(verbosity=2)"
   ]
  },
  {
   "cell_type": "code",
   "execution_count": null,
   "metadata": {},
   "outputs": [],
   "source": [
    "with Robot(print_warnings=False) as robot:\n",
    "    robot.enable_all()\n",
    "    robot.do_prep_paint(ease_dist=.1, elbow_mode='neg')"
   ]
  },
  {
   "cell_type": "code",
   "execution_count": null,
   "metadata": {},
   "outputs": [],
   "source": [
    "with Robot(print_warnings=False) as robot:\n",
    "    robot.enable_all()\n",
    "    robot.do_start_paint()\n",
    "    input()\n",
    "    robot.do_prep_paint()"
   ]
  },
  {
   "cell_type": "code",
   "execution_count": null,
   "metadata": {},
   "outputs": [],
   "source": [
    "robot.do_move_home()"
   ]
  },
  {
   "cell_type": "code",
   "execution_count": null,
   "metadata": {},
   "outputs": [],
   "source": [
    "# Try tilting the brush\n",
    "Ts = [(SE3.P(Arm.CANVAS_CENTER + [0, 0, 0.06]) @ SE3.RotX(-np.pi / 2 + angle))\n",
    "      for angle in np.linspace(0, .5, 5)]\n",
    "path = [PosePathWaypoint(T=T, tol=5, timeout=None, pause=0) for T in Ts]\n",
    "\n",
    "with Robot(print_warnings=False) as robot:\n",
    "    robot.execute_pose_path(path)"
   ]
  },
  {
   "cell_type": "code",
   "execution_count": null,
   "metadata": {},
   "outputs": [],
   "source": []
  }
 ],
 "metadata": {
  "kernelspec": {
   "display_name": "base",
   "language": "python",
   "name": "python3"
  },
  "language_info": {
   "codemirror_mode": {
    "name": "ipython",
    "version": 3
   },
   "file_extension": ".py",
   "mimetype": "text/x-python",
   "name": "python",
   "nbconvert_exporter": "python",
   "pygments_lexer": "ipython3",
   "version": "3.9.15"
  },
  "orig_nbformat": 4
 },
 "nbformat": 4,
 "nbformat_minor": 2
}
