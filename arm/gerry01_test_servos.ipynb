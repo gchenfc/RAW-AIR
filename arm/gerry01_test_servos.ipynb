{
 "cells": [
  {
   "cell_type": "code",
   "execution_count": 1,
   "metadata": {},
   "outputs": [],
   "source": [
    "%load_ext autoreload\n",
    "%autoreload 2"
   ]
  },
  {
   "cell_type": "code",
   "execution_count": 2,
   "metadata": {},
   "outputs": [],
   "source": [
    "from dynamixel import AX12, Arm\n",
    "import time"
   ]
  },
  {
   "cell_type": "code",
   "execution_count": 59,
   "metadata": {},
   "outputs": [],
   "source": [
    "PORT = '/dev/cu.usbmodem1101'\n",
    "BAUD = 1000000"
   ]
  },
  {
   "cell_type": "code",
   "execution_count": 60,
   "metadata": {},
   "outputs": [
    {
     "name": "stdout",
     "output_type": "stream",
     "text": [
      "test all msgs: \n",
      "Status(id=0x00, error=00000000, data=0)\n",
      "Status(id=0x01, error=00000000, data=0)\n",
      "Status(id=0x02, error=00000000, data=0)\n",
      "Status(id=0x03, error=00000000, data=0)\n",
      "Status(id=0x04, error=00000000, data=0)\n",
      "Status(id=0x05, error=00000000, data=0)\n"
     ]
    }
   ],
   "source": [
    "# Test connection to all servos by pinging\n",
    "# We expect error=0 for all 6 servos.  See https://emanual.robotis.com/docs/en/dxl/protocol1/#error\n",
    "with AX12(PORT, BAUD) as robot:\n",
    "    robot.ping(0)\n",
    "    robot.ping(1)\n",
    "    robot.ping(2)\n",
    "    robot.ping(3)\n",
    "    robot.ping(4)\n",
    "    robot.ping(5)\n",
    "    # print('test next msg: ', robot.read_next_msg())\n",
    "    print('test all msgs: ')\n",
    "    for msg in robot.read_all_msgs():\n",
    "        print(msg)"
   ]
  },
  {
   "cell_type": "code",
   "execution_count": 10,
   "metadata": {},
   "outputs": [],
   "source": [
    "# Write speeds of all servos\n",
    "with Arm(PORT, BAUD) as robot:\n",
    "    robot.write_all(AX12.MOVING_SPEED, 25, nbytes=2)"
   ]
  },
  {
   "cell_type": "code",
   "execution_count": 9,
   "metadata": {},
   "outputs": [],
   "source": [
    "# Command base servo to 0 degrees\n",
    "with Arm(PORT, BAUD) as robot:\n",
    "    robot.command_angle(0, 0)"
   ]
  },
  {
   "cell_type": "code",
   "execution_count": 46,
   "metadata": {},
   "outputs": [],
   "source": [
    "# Disable (or enable) all servos\n",
    "with Arm(PORT, BAUD) as robot:\n",
    "    robot.write_all(AX12.TORQUE_ENABLE, 0)  # change to 1 to enable"
   ]
  },
  {
   "cell_type": "code",
   "execution_count": 47,
   "metadata": {},
   "outputs": [],
   "source": [
    "# Command all servo angles\n",
    "with Arm(PORT, BAUD) as robot:\n",
    "    robot.command_angles_deg(0, 0, 0, 0, 0)"
   ]
  },
  {
   "cell_type": "code",
   "execution_count": 48,
   "metadata": {},
   "outputs": [
    {
     "name": "stdout",
     "output_type": "stream",
     "text": [
      " -0   0  -0  -1  -0  -0\n"
     ]
    }
   ],
   "source": [
    "# Record all joint angles\n",
    "def joint_angles_string(robot):\n",
    "    joint_angles = robot.read_all_joint_angles_deg()\n",
    "    return ' '.join([f'{angle:3.0f}' for angle in joint_angles])\n",
    "with Arm(PORT, BAUD) as robot:\n",
    "    while True:\n",
    "        print(joint_angles_string(robot))\n",
    "        break\n",
    "        time.sleep(0.5)"
   ]
  },
  {
   "cell_type": "code",
   "execution_count": 61,
   "metadata": {},
   "outputs": [
    {
     "name": "stdout",
     "output_type": "stream",
     "text": [
      "Going to [0, 0, 0, 0, 0] (1/8)\n",
      "SUCCESS!\n",
      "Going to [0, 60, 120, 0, -90] (2/8)\n",
      "SUCCESS!   -1  61 -61 114  -0 -90                                                         \n",
      "Going to [-88, 60, 120, 0, -90] (3/8)\n",
      "SUCCESS!  -82  61 -61 122  -0 -90                                                         \n",
      "Going to [-88, 60, 130, 0, -90] (4/8)\n",
      "SUCCESS!  -88  61 -61 128  -0 -90                                                         \n",
      "Going to [-88, 60, 120, 0, -90] (5/8)\n",
      "          -88  61 -61 123  -0 -90                                                         \n",
      "Timeout...  Moving on\n",
      "Going to [0, 60, 120, 0, -90] (6/8)\n",
      "SUCCESS!   -6  61 -61 123  -0 -90                                                         \n",
      "Going to [0, 60, 60, 0, -90] (7/8)\n",
      "SUCCESS!   -1  61 -61  66  -0 -90                                                         \n",
      "Going to [0, 0, 0, 0, 0] (8/8)\n",
      "SUCCESS!   -1   0   0  -0  -0  -6                                                         \n"
     ]
    }
   ],
   "source": [
    "# Paint dipping trajectory\n",
    "TRAJECTORY_QS_TOLS_TIMEOUTS_PAUSES = [\n",
    "    ([0, 0, 0, 0, 0], None, None, 0),\n",
    "    ([0, 60, 120, 0, -90], None, None, 0),\n",
    "    ([-88, 60, 120, 0, -90], None, None, 0),\n",
    "    ([-88, 60, 130, 0, -90], 2, 3, 2),\n",
    "    ([-88, 60, 120, 0, -90], 2, 3, 0),\n",
    "    ([0, 60, 120, 0, -90], None, None, 0),\n",
    "    ([0, 60, 60, 0, -90], None, None, 0),\n",
    "    ([0, 0, 0, 0, 0], None, None, 0),\n",
    "]\n",
    "\n",
    "# Follow trajectory\n",
    "with Arm(PORT, BAUD) as robot:\n",
    "    robot.write_all(AX12.TORQUE_ENABLE, 1)\n",
    "    for i, (q, tol, timeout, pause) in enumerate(TRAJECTORY_QS_TOLS_TIMEOUTS_PAUSES):\n",
    "        print(f'Going to {q} ({i+1}/{len(TRAJECTORY_QS_TOLS_TIMEOUTS_PAUSES)})')\n",
    "        # robot.go_to_blocking(q, cb=lambda: print(f'{joint_angles_string(robot):80}', end='\\r'))\n",
    "        print_debug = lambda: print(f'          {joint_angles_string(robot):80}', end='\\r')\n",
    "        if robot.go_to_blocking(q, tol=tol, timeout=timeout, cb=print_debug):\n",
    "            print(\"SUCCESS!\")\n",
    "        else:\n",
    "            print(\"\\nTimeout...  Moving on\")\n",
    "        time.sleep(pause)"
   ]
  },
  {
   "cell_type": "code",
   "execution_count": null,
   "metadata": {},
   "outputs": [],
   "source": []
  }
 ],
 "metadata": {
  "kernelspec": {
   "display_name": "base",
   "language": "python",
   "name": "python3"
  },
  "language_info": {
   "codemirror_mode": {
    "name": "ipython",
    "version": 3
   },
   "file_extension": ".py",
   "mimetype": "text/x-python",
   "name": "python",
   "nbconvert_exporter": "python",
   "pygments_lexer": "ipython3",
   "version": "3.9.15"
  },
  "orig_nbformat": 4
 },
 "nbformat": 4,
 "nbformat_minor": 2
}
