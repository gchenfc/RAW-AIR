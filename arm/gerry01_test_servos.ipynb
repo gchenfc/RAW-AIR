{
 "cells": [
  {
   "cell_type": "code",
   "execution_count": 86,
   "metadata": {},
   "outputs": [
    {
     "name": "stdout",
     "output_type": "stream",
     "text": [
      "The autoreload extension is already loaded. To reload it, use:\n",
      "  %reload_ext autoreload\n"
     ]
    }
   ],
   "source": [
    "%load_ext autoreload\n",
    "%autoreload 2"
   ]
  },
  {
   "cell_type": "code",
   "execution_count": 87,
   "metadata": {},
   "outputs": [],
   "source": [
    "from dynamixel import AX12, Arm\n",
    "import time"
   ]
  },
  {
   "cell_type": "code",
   "execution_count": 90,
   "metadata": {},
   "outputs": [],
   "source": [
    "PORT = '/dev/tty.usbmodem1101'\n",
    "BAUD = 1000000"
   ]
  },
  {
   "cell_type": "code",
   "execution_count": 91,
   "metadata": {},
   "outputs": [
    {
     "name": "stdout",
     "output_type": "stream",
     "text": [
      "test all msgs: \n",
      "Status(id=0x00, error=00000000, data=0)\n",
      "Status(id=0x01, error=00000000, data=0)\n",
      "Status(id=0x02, error=00000000, data=0)\n",
      "Status(id=0x03, error=00000000, data=0)\n",
      "Status(id=0x04, error=00000000, data=0)\n",
      "Status(id=0x05, error=00000000, data=0)\n"
     ]
    }
   ],
   "source": [
    "# Test connection to all servos by pinging\n",
    "# We expect error=0 for all 6 servos.  See https://emanual.robotis.com/docs/en/dxl/protocol1/#error\n",
    "with AX12(PORT, BAUD) as robot:\n",
    "    robot.ping(0)\n",
    "    robot.ping(1)\n",
    "    robot.ping(2)\n",
    "    robot.ping(3)\n",
    "    robot.ping(4)\n",
    "    robot.ping(5)\n",
    "    # print('test next msg: ', robot.read_next_msg())\n",
    "    print('test all msgs: ')\n",
    "    for msg in robot.read_all_msgs():\n",
    "        print(msg)"
   ]
  },
  {
   "cell_type": "code",
   "execution_count": 92,
   "metadata": {},
   "outputs": [],
   "source": [
    "# Write speeds of all servos\n",
    "with Arm(PORT, BAUD) as robot:\n",
    "    robot.write_all(AX12.MOVING_SPEED, 25, nbytes=2)"
   ]
  },
  {
   "cell_type": "code",
   "execution_count": 17,
   "metadata": {},
   "outputs": [],
   "source": [
    "# Command base servo to 0 degrees\n",
    "with Arm(PORT, BAUD) as robot:\n",
    "    robot.command_angle(0, 0)"
   ]
  },
  {
   "cell_type": "code",
   "execution_count": 93,
   "metadata": {},
   "outputs": [],
   "source": [
    "# Disable (or enable) all servos\n",
    "with Arm(PORT, BAUD) as robot:\n",
    "    robot.write_all(AX12.TORQUE_ENABLE, 0)  # change to 1 to enable"
   ]
  },
  {
   "cell_type": "code",
   "execution_count": 94,
   "metadata": {},
   "outputs": [],
   "source": [
    "# Command all servo angles\n",
    "with Arm(PORT, BAUD) as robot:\n",
    "    robot.command_angles_deg(0, 0, 0, 0, 0)"
   ]
  },
  {
   "cell_type": "code",
   "execution_count": 69,
   "metadata": {},
   "outputs": [
    {
     "name": "stdout",
     "output_type": "stream",
     "text": [
      " -3  65 -63 133  -3  73\n"
     ]
    }
   ],
   "source": [
    "# Record all joint angles\n",
    "def joint_angles_string(robot):\n",
    "    joint_angles = robot.read_all_joint_angles_deg()\n",
    "    return ' '.join([f'{angle:3.0f}' for angle in joint_angles])\n",
    "with Arm(PORT, BAUD) as robot:\n",
    "    while True:\n",
    "        print(joint_angles_string(robot))\n",
    "        break\n",
    "        time.sleep(0.5)"
   ]
  },
  {
   "cell_type": "code",
   "execution_count": null,
   "metadata": {},
   "outputs": [],
   "source": [
    " -3  40 -38 120  -3  62\n",
    "  -3  65 -63 133  -3  73"
   ]
  },
  {
   "cell_type": "code",
   "execution_count": 102,
   "metadata": {},
   "outputs": [
    {
     "name": "stdout",
     "output_type": "stream",
     "text": [
      "Going to [0, 0, 0, 0, 0] (1/7)\n",
      "SUCCESS!\n",
      "Going to [0, 50, 110, 0, 90] (2/7)\n",
      "warning: callback had an assertion error in go_to_blocking:  Wrong checksum: bytearray(b'\\xff\\xff\\x02\\x04\\x80S\\x01\\xa5')\n",
      "warning: assertion error in reached_goal:  Wrong checksum: bytearray(b'\\xff\\xff\\x02\\x04\\x00SA\\xa5')\n",
      "SUCCESS!   -0  51 -50 104  -0  89                                                         \n",
      "Going to [-3, 39, 120, -3, 62] (3/7)\n",
      "warning: assertion error in reached_goal:  Wrong checksum: bytearray(b'\\xff\\xff\\x02\\x04@X\\x01\\xa0')\n",
      "warning: callback had an assertion error in go_to_blocking:  Wrong checksum: bytearray(b'\\xff\\xff\\x02\\x04\\x00|\\x01~')\n",
      "SUCCESS!   -3  39 -39 121  -3  63                                                         \n",
      "Going to [-3, 64, 133, -3, 73] (4/7)\n",
      "warning: assertion error in reached_goal:  Wrong checksum: bytearray(b'\\xff\\xff\\x12\\x04\\x00`\\x01\\x98')\n",
      "Lost data! 255 50 -49 132  -3  71                                                         \n",
      "Lost data! 2\n",
      "Lost data! 4\n",
      "Lost data! 0\n",
      "Lost data! 81\n",
      "Lost data! 1\n",
      "Lost data! 167\n",
      "warning: assertion error in reached_goal:  Wrong checksum: bytearray(b'\\xff\\xff\\x02\\x04\\x00?\\x01\\xba')\n",
      "SUCCESS!   -3  61 -61 134  -3  72                                                         \n",
      "Going to [0, 50, 90, 0, 90] (5/7)\n",
      "warning: assertion error in reached_goal:  Wrong checksum: bytearray(b'\\xff\\xff\\x02\\x04\\x08*\\x01\\xce')\n",
      "warning: callback had an assertion error in go_to_blocking:  Wrong checksum: bytearray(b'\\xff\\xff\\x02\\x04\\x00D\\x03\\xb4')\n",
      "Lost data! 255\n",
      "Lost data! 3\n",
      "Lost data! 4\n",
      "Lost data! 0\n",
      "Lost data! 176\n",
      "Lost data! 3\n",
      "Lost data! 69\n",
      "SUCCESS!   -1  51 -50  95  -1  89                                                         \n",
      "Going to [0, 50, 60, 0, 90] (6/7)\n",
      "SUCCESS!   -1  51 -50  66  -1  89                                                         \n",
      "Going to [0, 0, 0, 0, 0] (7/7)\n",
      "warning: callback had an assertion error in go_to_blocking:  Wrong checksum: bytearray(b'\\xff\\xff\\x02\\x04@Z\\x01\\x9e')\n",
      "warning: assertion error in reached_goal:  Wrong checksum: bytearray(b'\\xff\\xff\\x02\\x04\\x00z\\x01\\x8e')\n",
      "warning: assertion error in reached_goal:  Wrong checksum: bytearray(b'\\xff\\xff\\x02\\x04\\x00\\xfd\\x01{')\n",
      "warning: assertion error in reached_goal:  Wrong checksum: bytearray(b'\\xff\\xff\\x02\\x04\\x00\\xa2\\x01\\xd6')\n",
      "SUCCESS!   -1  11                                                                         \n"
     ]
    }
   ],
   "source": [
    "# Paint dipping trajectory\n",
    "TRAJECTORY_QS_TOLS_TIMEOUTS_PAUSES = [\n",
    "    ([0, 0, 0, 0, 0], None, None, 0),\n",
    "    ([0, 50, 110, 0, 90], None, None, 0),\n",
    "    # ([-8, 53, 130, 0, 61], 2, 3, 1),\n",
    "    # ([-8, 53, 130, 5, 61], 2, 3, 1),\n",
    "    # ([-8, 53, 130, -8, 61], 2, 3, 1),\n",
    "    ([-3, 39, 120, -3, 62], 2, 3, 0),\n",
    "    ([-3, 64, 133, -3, 73], 2, 3, 0),\n",
    "\n",
    "    ([0, 50, 90, 0, 90], None, None, 0),\n",
    "    ([0, 50, 60, 0, 90], None, None, 0),\n",
    "    ([0, 0, 0, 0, 0], None, None, 0),\n",
    "]\n",
    "\n",
    "# Follow trajectory\n",
    "with Arm(PORT, BAUD) as robot:\n",
    "    robot.write_all(AX12.TORQUE_ENABLE, 1)\n",
    "    for i, (q, tol, timeout, pause) in enumerate(TRAJECTORY_QS_TOLS_TIMEOUTS_PAUSES):\n",
    "        print(f'Going to {q} ({i+1}/{len(TRAJECTORY_QS_TOLS_TIMEOUTS_PAUSES)})')\n",
    "        # robot.go_to_blocking(q, cb=lambda: print(f'{joint_angles_string(robot):80}', end='\\r'))\n",
    "        print_debug = lambda: print(f'          {joint_angles_string(robot):80}', end='\\r')\n",
    "        if robot.go_to_blocking(q, tol=tol, timeout=timeout, cb=print_debug):\n",
    "            print(\"SUCCESS!\")\n",
    "        else:\n",
    "            print(\"\\nTimeout...  Moving on\")\n",
    "        time.sleep(pause)"
   ]
  },
  {
   "cell_type": "code",
   "execution_count": 101,
   "metadata": {},
   "outputs": [
    {
     "name": "stdout",
     "output_type": "stream",
     "text": [
      "SUCCESS!   -1   0   0  -2  -1  -5                                                         \n"
     ]
    }
   ],
   "source": [
    "# Painting on window position\n",
    "REST = [0, 0, 0, 0, 0]\n",
    "PAINT_ON_WINDOW = [0, 0, -25, 0, -60]\n",
    "q = REST\n",
    "# q = PAINT_ON_WINDOW\n",
    "\n",
    "with Arm(PORT, BAUD) as robot:\n",
    "    robot.write_all(AX12.TORQUE_ENABLE, 1)\n",
    "\n",
    "    print_debug = lambda: print(f'          {joint_angles_string(robot):80}', end='\\r')\n",
    "    if robot.go_to_blocking(q, tol=tol, timeout=timeout, cb=print_debug):\n",
    "        print(\"SUCCESS!\")\n",
    "    else:\n",
    "        print(\"\\nTimeout...  Moving on\")"
   ]
  },
  {
   "cell_type": "code",
   "execution_count": null,
   "metadata": {},
   "outputs": [],
   "source": []
  }
 ],
 "metadata": {
  "kernelspec": {
   "display_name": "base",
   "language": "python",
   "name": "python3"
  },
  "language_info": {
   "codemirror_mode": {
    "name": "ipython",
    "version": 3
   },
   "file_extension": ".py",
   "mimetype": "text/x-python",
   "name": "python",
   "nbconvert_exporter": "python",
   "pygments_lexer": "ipython3",
   "version": "3.9.15"
  },
  "orig_nbformat": 4,
  "vscode": {
   "interpreter": {
    "hash": "402f513bd64bb05ccdfd11315d0c88453571d1d1d73db48414a1b2a41f771ebc"
   }
  }
 },
 "nbformat": 4,
 "nbformat_minor": 2
}
