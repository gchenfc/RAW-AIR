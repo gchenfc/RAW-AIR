{
 "cells": [
  {
   "cell_type": "code",
   "execution_count": null,
   "metadata": {},
   "outputs": [],
   "source": [
    "%load_ext autoreload\n",
    "%autoreload 2"
   ]
  },
  {
   "cell_type": "code",
   "execution_count": null,
   "metadata": {},
   "outputs": [],
   "source": [
    "from dynamixel import AX12\n",
    "from arm import Arm\n",
    "import time"
   ]
  },
  {
   "cell_type": "code",
   "execution_count": null,
   "metadata": {},
   "outputs": [],
   "source": [
    "# PORT = '/dev/tty.usbmodem1101'\n",
    "PORT = '/dev/tty.borgla_test'\n",
    "BAUD = 1000000\n",
    "write_packet_delay = 0.5"
   ]
  },
  {
   "cell_type": "code",
   "execution_count": null,
   "metadata": {},
   "outputs": [],
   "source": [
    "# Test connection to all servos by pinging\n",
    "# We expect error=0 for all 6 servos.  See https://emanual.robotis.com/docs/en/dxl/protocol1/#error\n",
    "with AX12(PORT, BAUD) as robot:\n",
    "    robot.ping(0)\n",
    "    robot.ping(1)\n",
    "    robot.ping(2)\n",
    "    robot.ping(3)\n",
    "    robot.ping(4)\n",
    "    robot.ping(5)\n",
    "    # print('test next msg: ', robot.read_next_msg())\n",
    "    print('test all msgs: ')\n",
    "    for msg in robot.read_all_msgs():\n",
    "        print(msg)"
   ]
  },
  {
   "cell_type": "code",
   "execution_count": null,
   "metadata": {},
   "outputs": [],
   "source": [
    "# Write speeds of all servos\n",
    "with Arm(PORT, BAUD) as robot:\n",
    "    robot.write_all(AX12.MOVING_SPEED, 25, nbytes=2)"
   ]
  },
  {
   "cell_type": "code",
   "execution_count": null,
   "metadata": {},
   "outputs": [],
   "source": [
    "# Command base servo to 0 degrees\n",
    "with Arm(PORT, BAUD) as robot:\n",
    "    robot.command_angle(0, 0)"
   ]
  },
  {
   "cell_type": "code",
   "execution_count": null,
   "metadata": {},
   "outputs": [],
   "source": [
    "# Disable (or enable) all servos\n",
    "with Arm(PORT, BAUD) as robot:\n",
    "    robot.write_all(AX12.TORQUE_ENABLE, 0)  # change to 1 to enable"
   ]
  },
  {
   "cell_type": "code",
   "execution_count": null,
   "metadata": {},
   "outputs": [],
   "source": [
    "# Command all servo angles\n",
    "with Arm(PORT, BAUD) as robot:\n",
    "    robot.command_angles_deg(0, 0, 0, 0, 0)"
   ]
  },
  {
   "cell_type": "code",
   "execution_count": null,
   "metadata": {},
   "outputs": [],
   "source": [
    "# Record all joint angles\n",
    "def joint_angles_string(robot):\n",
    "    joint_angles = robot.read_all_joint_angles_deg()\n",
    "    return ' '.join([f'{angle:3.0f}' for angle in joint_angles])\n",
    "with Arm(PORT, BAUD) as robot:\n",
    "    while True:\n",
    "        print(joint_angles_string(robot))\n",
    "        break\n",
    "        time.sleep(0.5)"
   ]
  },
  {
   "cell_type": "code",
   "execution_count": null,
   "metadata": {},
   "outputs": [],
   "source": [
    "# Paint dipping trajectory\n",
    "TRAJECTORY_QS_TOLS_TIMEOUTS_PAUSES = [\n",
    "    ([0, 0, 0, 0, 0], None, None, 0),\n",
    "    ([0, 50, 110, 0, 90], None, None, 0),\n",
    "    # ([-8, 53, 130, 0, 61], 2, 3, 1),\n",
    "    # ([-8, 53, 130, 5, 61], 2, 3, 1),\n",
    "    # ([-8, 53, 130, -8, 61], 2, 3, 1),\n",
    "    ([-3, 39, 120, -3, 62], 2, 3, 0),\n",
    "    ([-3, 64, 133, -3, 73], 2, 3, 0),\n",
    "\n",
    "    ([0, 50, 90, 0, 90], None, None, 0),\n",
    "    ([0, 50, 60, 0, 90], None, None, 0),\n",
    "    ([0, 0, 0, 0, 0], None, None, 0),\n",
    "]\n",
    "\n",
    "# Follow trajectory\n",
    "# THIS IS SUPERCEDED BY arm.py: Arm.execute_joint_path\n",
    "with Arm(PORT, BAUD) as robot:\n",
    "    robot.write_all(AX12.TORQUE_ENABLE, 1)\n",
    "    for i, (q, tol, timeout, pause) in enumerate(TRAJECTORY_QS_TOLS_TIMEOUTS_PAUSES):\n",
    "        print(f'Going to {q} ({i+1}/{len(TRAJECTORY_QS_TOLS_TIMEOUTS_PAUSES)})')\n",
    "        # robot.go_to_blocking(q, cb=lambda: print(f'{joint_angles_string(robot):80}', end='\\r'))\n",
    "        print_debug = lambda: print(f'          {joint_angles_string(robot):80}', end='\\r')\n",
    "        if robot.go_to_blocking(q, tol=tol, timeout=timeout, cb=print_debug):\n",
    "            print(\"SUCCESS!\")\n",
    "        else:\n",
    "            print(\"\\nTimeout...  Moving on\")\n",
    "        time.sleep(pause)"
   ]
  },
  {
   "cell_type": "code",
   "execution_count": null,
   "metadata": {},
   "outputs": [],
   "source": [
    "# Painting on window position\n",
    "REST = [0, 0, 0, 0, 0]\n",
    "PAINT_ON_WINDOW = [0, 0, -25, 0, -60]\n",
    "q = REST\n",
    "# q = PAINT_ON_WINDOW\n",
    "\n",
    "with Arm(PORT, BAUD) as robot:\n",
    "    robot.write_all(AX12.TORQUE_ENABLE, 1)\n",
    "\n",
    "    print_debug = lambda: print(f'          {joint_angles_string(robot):80}', end='\\r')\n",
    "    if robot.go_to_blocking(q, tol=tol, timeout=timeout, cb=print_debug):\n",
    "        print(\"SUCCESS!\")\n",
    "    else:\n",
    "        print(\"\\nTimeout...  Moving on\")"
   ]
  },
  {
   "cell_type": "code",
   "execution_count": null,
   "metadata": {},
   "outputs": [],
   "source": []
  }
 ],
 "metadata": {
  "kernelspec": {
   "display_name": "base",
   "language": "python",
   "name": "python3"
  },
  "language_info": {
   "codemirror_mode": {
    "name": "ipython",
    "version": 3
   },
   "file_extension": ".py",
   "mimetype": "text/x-python",
   "name": "python",
   "nbconvert_exporter": "python",
   "pygments_lexer": "ipython3",
   "version": "3.9.15"
  },
  "orig_nbformat": 4,
  "vscode": {
   "interpreter": {
    "hash": "402f513bd64bb05ccdfd11315d0c88453571d1d1d73db48414a1b2a41f771ebc"
   }
  }
 },
 "nbformat": 4,
 "nbformat_minor": 2
}
