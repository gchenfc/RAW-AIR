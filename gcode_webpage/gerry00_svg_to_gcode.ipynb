{
 "cells": [
  {
   "cell_type": "markdown",
   "metadata": {},
   "source": [
    "This file converts an svg file into a gcode format the cable robot can read.  In particular, it converts it to just polylines.\n",
    "\n",
    "In the future, maybe we can switch to a spline representation, but for now it's polylines."
   ]
  },
  {
   "cell_type": "code",
   "execution_count": null,
   "metadata": {},
   "outputs": [],
   "source": [
    "import svgpathtools\n",
    "from pathlib import Path\n",
    "\n",
    "import numpy as np\n",
    "import matplotlib.pyplot as plt"
   ]
  },
  {
   "cell_type": "code",
   "execution_count": null,
   "metadata": {},
   "outputs": [],
   "source": [
    "infile = Path('files/brush_path_test_0107_2024.svg')\n",
    "outfile = infile.with_suffix('.nc')\n",
    "print(infile, '->', outfile)"
   ]
  },
  {
   "cell_type": "code",
   "execution_count": null,
   "metadata": {},
   "outputs": [],
   "source": [
    "# First reorder the svg\n",
    "paths, attributes = svgpathtools.svg2paths(infile)\n",
    "if False:\n",
    "    new_paths = [paths.pop()]\n",
    "    while paths:\n",
    "        end = new_paths[-1].end\n",
    "        closest = min(paths, key=lambda p: abs(p.start - end))\n",
    "        new_paths.append(closest)\n",
    "        paths.remove(closest)\n",
    "\n",
    "    svgpathtools.disvg(new_paths, filename=infile.with_stem(infile.stem + '_reordered').as_posix(), attributes=attributes)\n",
    "    paths = new_paths"
   ]
  },
  {
   "cell_type": "code",
   "execution_count": null,
   "metadata": {},
   "outputs": [],
   "source": [
    "def pt_to_mm(pt):\n",
    "    return pt / 72 * 25.4"
   ]
  },
  {
   "cell_type": "code",
   "execution_count": null,
   "metadata": {},
   "outputs": [],
   "source": [
    "# First convert to numpy polyline\n",
    "POINT_EVERY_N_MM = 30\n",
    "\n",
    "polylines = []\n",
    "\n",
    "for path in paths:\n",
    "    L = path.length()\n",
    "    ts = np.arange(0, 1, POINT_EVERY_N_MM / pt_to_mm(L))\n",
    "    ts = np.append(ts, 1)\n",
    "    ps = np.array([path.point(t) for t in ts])\n",
    "    ps = np.conjugate(pt_to_mm(ps))\n",
    "    polylines.append(np.stack([np.real(ps), np.imag(ps)], axis=1))\n",
    "    # Sanity check\n",
    "    # print(np.mean(np.abs(np.diff(ps))), '\\t', np.max(np.abs(np.diff(ps[:-1])) - POINT_EVERY_N_MM))\n",
    "    assert np.all(np.abs(np.diff(ps[:-1])) - POINT_EVERY_N_MM < 0.5)\n",
    "# Sanity check\n",
    "for polyline in polylines:\n",
    "    # print(np.mean(np.linalg.norm(np.diff(polyline, axis=0), axis=1)))\n",
    "    assert np.all(np.linalg.norm(np.diff(polyline, axis=0), axis=1) - POINT_EVERY_N_MM < 0.5)"
   ]
  },
  {
   "cell_type": "code",
   "execution_count": null,
   "metadata": {},
   "outputs": [],
   "source": [
    "def plot_fig(polylines):\n",
    "    POINT_EVERY_N_MM = 10\n",
    "    for polyline in polylines:\n",
    "        plt.plot(*polyline.T, '--', linewidth=0.5)\n",
    "    plt.axis('equal')\n",
    "plot_fig(polylines)"
   ]
  },
  {
   "cell_type": "code",
   "execution_count": null,
   "metadata": {},
   "outputs": [],
   "source": [
    "# Rescale and translate\n",
    "offset = np.min(np.concatenate(polylines, axis=0), axis=0)\n",
    "polylines = [polyline - offset for polyline in polylines]\n",
    "# Separate top and bottom\n",
    "def condition(polyline):\n",
    "    return np.all(polyline[:, 1] < 1850)\n",
    "polylines1 = list(filter(condition, polylines))\n",
    "polylines2 = list(filter(lambda x: not condition(x), polylines))\n",
    "# Remove outer rectangle\n",
    "def condition(polyline):\n",
    "    return not np.any(np.all(polyline < 5, axis=1), axis=0)\n",
    "polylines1_inner = list(filter(condition, polylines1))\n",
    "print(len(polylines1), len(polylines1_inner))\n",
    "plot_fig(polylines1_inner)"
   ]
  },
  {
   "cell_type": "code",
   "execution_count": null,
   "metadata": {},
   "outputs": [],
   "source": [
    "print(np.min([np.min(polyline, axis=0) for polyline in polylines1], axis=0))\n",
    "print(np.max([np.max(polyline, axis=0) for polyline in polylines1], axis=0))"
   ]
  },
  {
   "cell_type": "code",
   "execution_count": null,
   "metadata": {},
   "outputs": [],
   "source": [
    "# Export pane 1\n",
    "outfile1 = outfile.with_stem(outfile.stem + '_pane1')\n",
    "with open(outfile1, 'w') as f:\n",
    "    for polyline in polylines1:\n",
    "        xs, ys = polyline.T\n",
    "        # Write path to file\n",
    "        f.write(f'G0 X{xs[0]:.3f} Y{ys[0]:.3f}\\n')\n",
    "        for x, y in zip(xs, ys):\n",
    "            f.write(f'G1 X{x:.3f} Y{y:.3f}\\n')\n",
    "        f.write(f'G0 X{xs[-1]:.3f} Y{ys[-1]:.3f}\\n')\n",
    "# Export pane 2\n",
    "outfile2 = outfile.with_stem(outfile.stem + '_pane2')\n",
    "with open(outfile2, 'w') as f:\n",
    "    for polyline in polylines2:\n",
    "        xs, ys = polyline.T\n",
    "        # Write path to file\n",
    "        f.write(f'G0 X{xs[0]:.3f} Y{ys[0]:.3f}\\n')\n",
    "        for x, y in zip(xs, ys):\n",
    "            f.write(f'G1 X{x:.3f} Y{y:.3f}\\n')\n",
    "        f.write(f'G0 X{xs[-1]:.3f} Y{ys[-1]:.3f}\\n')"
   ]
  },
  {
   "cell_type": "code",
   "execution_count": null,
   "metadata": {},
   "outputs": [],
   "source": [
    "# Old Export\n",
    "POINT_EVERY_N_MM = 30\n",
    "\n",
    "with open(outfile, 'w') as f:\n",
    "    for path in paths:\n",
    "        L = path.length()\n",
    "        # N = int(pt_to_mm(L) / POINT_EVERY_N_MM)\n",
    "        # ts = np.linspace(0, 1, N)\n",
    "        ts = np.arange(0, 1, POINT_EVERY_N_MM / pt_to_mm(L))\n",
    "        ts = np.append(ts, 1)\n",
    "        ps = np.array([path.point(t) for t in ts])\n",
    "        ps = pt_to_mm(ps) / 10\n",
    "        # Sanity check\n",
    "        print(np.mean(np.abs(np.diff(ps))), '\\t', np.max(np.abs(np.diff(ps[:-1] * 10)) - POINT_EVERY_N_MM))\n",
    "        assert np.all(np.abs(np.diff(ps[:-1] * 10)) - POINT_EVERY_N_MM < 0.5)\n",
    "        xs, ys = np.real(ps), np.imag(ps)\n",
    "        # Write path to file\n",
    "        f.write(f'G0 X{xs[0]:.3f} Y{ys[0]:.3f}\\n')\n",
    "        for x, y in zip(xs, ys):\n",
    "            f.write(f'G1 X{x:.3f} Y{y:.3f}\\n')\n",
    "        f.write(f'G0 X{xs[-1]:.3f} Y{ys[-1]:.3f}\\n')"
   ]
  },
  {
   "cell_type": "code",
   "execution_count": null,
   "metadata": {},
   "outputs": [],
   "source": []
  }
 ],
 "metadata": {
  "kernelspec": {
   "display_name": "base",
   "language": "python",
   "name": "python3"
  },
  "language_info": {
   "codemirror_mode": {
    "name": "ipython",
    "version": 3
   },
   "file_extension": ".py",
   "mimetype": "text/x-python",
   "name": "python",
   "nbconvert_exporter": "python",
   "pygments_lexer": "ipython3",
   "version": "3.9.15"
  }
 },
 "nbformat": 4,
 "nbformat_minor": 2
}
