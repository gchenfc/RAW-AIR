{
 "cells": [
  {
   "cell_type": "markdown",
   "metadata": {},
   "source": [
    "This file converts an svg file into a gcode format the cable robot can read.  In particular, it converts it to just polylines.\n",
    "\n",
    "In the future, maybe we can switch to a spline representation, but for now it's polylines."
   ]
  },
  {
   "cell_type": "code",
   "execution_count": null,
   "metadata": {},
   "outputs": [],
   "source": [
    "import svgpathtools\n",
    "from pathlib import Path\n",
    "\n",
    "import numpy as np\n",
    "import matplotlib.pyplot as plt\n",
    "import dataclasses"
   ]
  },
  {
   "cell_type": "code",
   "execution_count": null,
   "metadata": {},
   "outputs": [],
   "source": [
    "# infile = Path('files/brush_path_test_0107_2024.svg')\n",
    "infile = Path('files/6R.svg')\n",
    "outfile = infile.with_suffix('.nc')\n",
    "print(infile, '->', outfile)"
   ]
  },
  {
   "cell_type": "code",
   "execution_count": null,
   "metadata": {},
   "outputs": [],
   "source": [
    "# First reorder the svg\n",
    "paths, attributes = svgpathtools.svg2paths(infile)\n",
    "if False:\n",
    "    new_paths = [paths.pop()]\n",
    "    while paths:\n",
    "        end = new_paths[-1].end\n",
    "        closest = min(paths, key=lambda p: abs(p.start - end))\n",
    "        new_paths.append(closest)\n",
    "        paths.remove(closest)\n",
    "\n",
    "    svgpathtools.disvg(new_paths, filename=infile.with_stem(infile.stem + '_reordered').as_posix(), attributes=attributes)\n",
    "    paths = new_paths"
   ]
  },
  {
   "cell_type": "code",
   "execution_count": null,
   "metadata": {},
   "outputs": [],
   "source": [
    "def pt_to_mm(pt):\n",
    "    return pt / 72 * 25.4"
   ]
  },
  {
   "cell_type": "code",
   "execution_count": null,
   "metadata": {},
   "outputs": [],
   "source": [
    "# First convert to numpy polyline\n",
    "POINT_EVERY_N_MM = 20\n",
    "\n",
    "polylines = []\n",
    "\n",
    "for path in paths:\n",
    "    L = path.length()\n",
    "    ts = np.arange(0, 1, POINT_EVERY_N_MM * 0.8 / pt_to_mm(L))\n",
    "    ts = np.append(ts, 1)\n",
    "    ps = np.array([path.point(t) for t in ts])\n",
    "    ps = np.conjugate(pt_to_mm(ps))\n",
    "    polylines.append(np.stack([np.real(ps), np.imag(ps)], axis=1) * 1e-3)\n",
    "    # Sanity check\n",
    "    # print(np.mean(np.abs(np.diff(ps))), '\\t', np.max(np.abs(np.diff(ps[:-1])) - POINT_EVERY_N_MM))\n",
    "    print(f'{np.max(np.abs(np.diff(ps[:-1]))):.2f}', end='\\t')\n",
    "    assert np.all(np.abs(np.diff(ps[:-1])) - POINT_EVERY_N_MM < 0.5)\n",
    "# Sanity check\n",
    "for polyline in polylines:\n",
    "    # print(np.mean(np.linalg.norm(np.diff(polyline, axis=0), axis=1)))\n",
    "    assert np.all(np.linalg.norm(np.diff(polyline, axis=0), axis=1)*1000 - POINT_EVERY_N_MM < 0.5)"
   ]
  },
  {
   "cell_type": "code",
   "execution_count": null,
   "metadata": {},
   "outputs": [],
   "source": [
    "def plot_fig(polylines, kwargs={}):\n",
    "    POINT_EVERY_N_MM = 10\n",
    "    for polyline in polylines:\n",
    "        plt.plot(*polyline.T, '--', linewidth=0.5, **kwargs)\n",
    "    plt.axis('equal')\n",
    "plot_fig(polylines)"
   ]
  },
  {
   "cell_type": "code",
   "execution_count": null,
   "metadata": {},
   "outputs": [],
   "source": [
    "inch2m = lambda x: x * 25.4 / 1000\n",
    "X_OFFSET = (1.887 - 0.037) + inch2m(- 3 - 72 / 2 + 0.5) + 60e-3\n",
    "Y_OFFSET = 5.417 - 4.614 + 60e-3\n",
    "X1 = (1.887 - 0.037) - inch2m(3 / 2)  # between left and center panes\n",
    "X2 = (1.887 + inch2m(84) - 0.037) + inch2m(3 / 2)  # between center and right panes\n",
    "YMID = (Y_OFFSET - 60e-3 + inch2m(71.5)) + inch2m(2.5 / 2) # between top and bottom panes\n",
    "\n",
    "# Need to convert canvas coordinates into cable robot \"carriage\" coordinates\n",
    "cdprrestTbrush = np.array([21.0e-2, 38.5e-2]) - np.array([0.5334, 0.381]) / 2"
   ]
  },
  {
   "cell_type": "code",
   "execution_count": null,
   "metadata": {},
   "outputs": [],
   "source": [
    "# Sanity checking!\n",
    "@dataclasses.dataclass\n",
    "class Bounds:\n",
    "    xmin: float\n",
    "    xmax: float\n",
    "    ymin: float\n",
    "    ymax: float\n",
    "    def inset(self, amt):\n",
    "        return Bounds(self.xmin + amt, self.xmax - amt, self.ymin + amt, self.ymax - amt)\n",
    "    def translate(self, x, y):\n",
    "        return Bounds(self.xmin + x, self.xmax + x, self.ymin + y, self.ymax + y)\n",
    "    def __repr__(self):\n",
    "        return f'Bounds{{X: [{self.xmin:.5f}, {self.xmax:.5f}], Y: [{self.ymin:.5f}, {self.ymax:.5f}]}}'\n",
    "    def xmid(self):\n",
    "        return (self.xmin + self.xmax) / 2\n",
    "    def ymid(self):\n",
    "        return (self.ymin + self.ymax) / 2\n",
    "    def size(self):\n",
    "        return (self.xmax - self.xmin, self.ymax - self.ymin)\n",
    "    def to_cdpr_lims(self):\n",
    "        return self.inset(60e-3).translate(*-cdprrestTbrush)\n",
    "    def filter(self, polylines, include_border=True, margin=inch2m(3/2)):\n",
    "        if margin != 0:\n",
    "            return self.inset(-margin).filter(polylines, include_border=include_border, margin=0)\n",
    "        if include_border:\n",
    "            cond = lambda pl: np.all((self.xmin <= pl[:,0]) & (pl[:,0] <= self.xmax) & (self.ymin <= pl[:,1]) & (pl[:,1] <= self.ymax))\n",
    "        else:\n",
    "            cond = lambda pl: np.all((self.xmin < pl[:,0]) & (pl[:,0] < self.xmax) & (self.ymin < pl[:,1]) & (pl[:,1] < self.ymax))\n",
    "        return list(filter(cond, polylines))\n",
    "\n",
    "BRUSH_R = (3.1e-2 + 0.8e-2) / 2\n",
    "BOUNDS_BOTTOM = Bounds(X1 + inch2m(3/2), X2 - inch2m(3/2), Y_OFFSET - 60e-3, YMID - inch2m(2.5/2))\n",
    "BOUNDS_TOP = Bounds(X1 + inch2m(3/2), X2 - inch2m(3/2), YMID + inch2m(2.5/2), YMID + inch2m(2.5/2) + inch2m(71.5))\n",
    "BOUNDS_LEFT = Bounds(X1 - inch2m(3/2+35.5), X1-inch2m(3/2), BOUNDS_BOTTOM.ymid() + inch2m(2.5/2), BOUNDS_TOP.ymid() - inch2m(2.5/2))\n",
    "BOUNDS_RIGHT = Bounds(X2 + inch2m(3/2), X2 + inch2m(3/2+35.5), BOUNDS_BOTTOM.ymid() + inch2m(2.5/2), BOUNDS_TOP.ymid() - inch2m(2.5/2))\n",
    "NAMES = ['Left', 'Right', 'Bottom', 'Top']\n",
    "PANE_BOUNDS = [BOUNDS_LEFT, BOUNDS_RIGHT, BOUNDS_BOTTOM, BOUNDS_TOP]\n",
    "\n",
    "print('Corner touch locs [BL-coords]:   ', BOUNDS_BOTTOM.inset(BRUSH_R).translate(-21.0e-2, -38.5e-2))\n",
    "print('Corner touch locs [cdpr-coords]: ', BOUNDS_BOTTOM.inset(BRUSH_R).translate(*-cdprrestTbrush))\n",
    "print('60mm buffer locs  [cdpr-coords]: ', BOUNDS_BOTTOM.inset(60e-3).translate(*-cdprrestTbrush))\n",
    "print()\n",
    "for name, bounds in zip(NAMES, PANE_BOUNDS):\n",
    "    print(f'{name:6} 60mm buffer: {bounds.to_cdpr_lims()}')\n",
    "print()\n",
    "for name, bounds in zip(NAMES, PANE_BOUNDS):\n",
    "    print(f'Size {name.lower():6} 60mm buffer: {bounds.to_cdpr_lims().size()}')"
   ]
  },
  {
   "cell_type": "code",
   "execution_count": null,
   "metadata": {},
   "outputs": [],
   "source": [
    "ONLY_ONE_PANE = None\n",
    "ONLY_ONE_PANE = BOUNDS_RIGHT.inset(60e-3)\n",
    "print(ONLY_ONE_PANE)"
   ]
  },
  {
   "cell_type": "code",
   "execution_count": null,
   "metadata": {},
   "outputs": [],
   "source": [
    "# Rescale and translate\n",
    "offset = np.min(np.concatenate(polylines, axis=0), axis=0) - np.array([X_OFFSET, Y_OFFSET])\n",
    "if ONLY_ONE_PANE is not None:\n",
    "    offset = np.min(np.concatenate(polylines, axis=0), axis=0) - np.array([ONLY_ONE_PANE.xmin, ONLY_ONE_PANE.ymin])\n",
    "polylines = [polyline - offset for polyline in polylines]\n",
    "# Separate the different panes\n",
    "panes = []\n",
    "for BOUNDS_PANE in [BOUNDS_LEFT, BOUNDS_RIGHT, BOUNDS_BOTTOM, BOUNDS_TOP]:\n",
    "    panes.append(BOUNDS_PANE.filter(polylines))\n",
    "assert sum(len(pane) for pane in panes) == len(polylines), 'some polylines not in any pane'\n",
    "\n",
    "plt.figure(figsize=(12, 4))\n",
    "plt.subplot(1, 2, 1)\n",
    "for pane, c in zip(panes, ['k', 'b', 'g', 'y']):\n",
    "    plot_fig(pane, {'color': c})\n",
    "plt.vlines([X1, X2], 0.8, 4.5, linewidth=0.5, color='r')\n",
    "plt.hlines(YMID, 0.8, 5.0, linewidth=0.5, color='r')\n",
    "\n",
    "# Remove outer rectangles\n",
    "def remove_outer_rectangle(polylines):\n",
    "    if not polylines:\n",
    "        return polylines\n",
    "    bl = np.min(np.concatenate(polylines, axis=0), axis=0)\n",
    "    # return [polyline for polyline in polylines if not np.any(np.all(polyline < bl + 5e-3, axis=1), axis=0)]\n",
    "    cond = lambda pl: np.sum(np.any(pl < bl + 5e-3, axis=1)) > len(pl) * 0.45\n",
    "    return [polyline for polyline in polylines if not cond(polyline)]\n",
    "def just_outer_rectangle(polylines):\n",
    "    if not polylines:\n",
    "        return polylines\n",
    "    bl = np.min(np.concatenate(polylines, axis=0), axis=0)\n",
    "    # return [polyline for polyline in polylines if np.any(np.all(polyline < bl + 5e-3, axis=1), axis=0)]\n",
    "    cond = lambda pl: np.sum(np.any(pl < bl + 5e-3, axis=1)) > len(pl) * 0.45\n",
    "    return [polyline for polyline in polylines if cond(polyline)]\n",
    "panes_inner = [remove_outer_rectangle(pane) for pane in panes]\n",
    "panes_outer = [just_outer_rectangle(pane) for pane in panes]\n",
    "for pane_inner, pane_outer, pane in zip(panes_inner, panes_outer, panes):\n",
    "    if not pane:\n",
    "        continue\n",
    "    assert len(pane_inner) + 1 == len(pane), 'Outer rectangle removal error'\n",
    "    assert len(pane_outer) == 1, 'Outer rectangle removal error'\n",
    "\n",
    "plt.subplot(1, 2, 2)\n",
    "for pane, c in zip(panes_inner, ['k', 'b', 'g', 'y']):\n",
    "    plot_fig(pane, {'color': c})"
   ]
  },
  {
   "cell_type": "code",
   "execution_count": null,
   "metadata": {},
   "outputs": [],
   "source": [
    "# Print out bounds, for sanity checking\n",
    "print('Pane artwork bounds in BL coordinates:')\n",
    "for name, pane_outer in zip(NAMES, panes_outer):\n",
    "    if not pane_outer:\n",
    "        continue\n",
    "    xmin, ymin = np.min([np.min(polyline, axis=0) for polyline in pane_outer], axis=0)\n",
    "    xmax, ymax = np.max([np.max(polyline, axis=0) for polyline in pane_outer], axis=0)\n",
    "    print(f'  {name:6}: [{xmin:.5f}, {xmax:.5f}], [{ymin:.5f}, {ymax:.5f}]')\n",
    "print('Pane artwork bounds in cdpr coordinates:')\n",
    "# Translate to cdpr coordinates\n",
    "cdpr_panes_inner = [[-cdprrestTbrush + polyline for polyline in pane] for pane in panes_inner]\n",
    "cdpr_panes_outer = [[-cdprrestTbrush + polyline for polyline in pane] for pane in panes_outer]\n",
    "for name, pane_outer in zip(NAMES, cdpr_panes_outer):\n",
    "    if not pane_outer:\n",
    "        continue\n",
    "    xmin, ymin = np.min([np.min(polyline, axis=0) for polyline in pane_outer], axis=0)\n",
    "    xmax, ymax = np.max([np.max(polyline, axis=0) for polyline in pane_outer], axis=0)\n",
    "    print(f'  {name:6}: [{xmin:.5f}, {xmax:.5f}], [{ymin:.5f}, {ymax:.5f}]')\n",
    "\n",
    "# Print boundaries for reference\n",
    "print('Expected pane bounds (with 60mm buffer) in cdpr coordinates:')\n",
    "for name, bounds in zip(NAMES, PANE_BOUNDS):\n",
    "    print(f'  {name:6}: {bounds.to_cdpr_lims()}')\n",
    "# Print boundaries for reference\n",
    "print('Difference:')\n",
    "for name, bounds, pane_outer in zip(NAMES, PANE_BOUNDS, cdpr_panes_outer):\n",
    "    if not pane_outer:\n",
    "        continue\n",
    "    xmin, ymin = np.min([np.min(polyline, axis=0) for polyline in pane_outer], axis=0)\n",
    "    xmax, ymax = np.max([np.max(polyline, axis=0) for polyline in pane_outer], axis=0)\n",
    "    expected = bounds.to_cdpr_lims()\n",
    "    print(f'  {name:6}: [{xmin-expected.xmin:.5f}, {xmax-expected.xmax:.5f}], [{ymin-expected.ymin:.5f}, {ymax-expected.ymax:.5f}]')"
   ]
  },
  {
   "cell_type": "code",
   "execution_count": null,
   "metadata": {},
   "outputs": [],
   "source": [
    "# Export panes\n",
    "for fname, pl in zip(NAMES, cdpr_panes_inner):\n",
    "    if not pl:\n",
    "        continue\n",
    "    outfile_ = outfile.with_stem(outfile.stem + '_' + fname.lower())\n",
    "    with open(outfile_, 'w') as f:\n",
    "        for polyline in pl:\n",
    "            xs, ys = polyline.T * 1e3\n",
    "            # Write path to file\n",
    "            f.write(f'G0 X{xs[0]:.3f} Y{ys[0]:.3f}\\n')\n",
    "            for x, y in zip(xs, ys):\n",
    "                f.write(f'G1 X{x:.3f} Y{y:.3f}\\n')\n",
    "            f.write(f'G0 X{xs[-1]:.3f} Y{ys[-1]:.3f}\\n')"
   ]
  },
  {
   "cell_type": "code",
   "execution_count": null,
   "metadata": {},
   "outputs": [],
   "source": []
  }
 ],
 "metadata": {
  "kernelspec": {
   "display_name": "base",
   "language": "python",
   "name": "python3"
  },
  "language_info": {
   "codemirror_mode": {
    "name": "ipython",
    "version": 3
   },
   "file_extension": ".py",
   "mimetype": "text/x-python",
   "name": "python",
   "nbconvert_exporter": "python",
   "pygments_lexer": "ipython3",
   "version": "3.9.15"
  }
 },
 "nbformat": 4,
 "nbformat_minor": 2
}
